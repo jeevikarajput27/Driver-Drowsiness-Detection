{
  "cells": [
    {
      "cell_type": "code",
      "execution_count": 1,
      "metadata": {
        "id": "FQ_rmzq1k67s"
      },
      "outputs": [],
      "source": [
        "from sklearn.base import BaseEstimator, TransformerMixin\n",
        "import pandas as pd\n",
        "from sklearn.model_selection import train_test_split\n",
        "from sklearn.metrics import roc_curve, roc_auc_score, f1_score\n",
        "from sklearn.naive_bayes import GaussianNB\n",
        "from sklearn.linear_model import LogisticRegression\n",
        "from sklearn.neural_network import MLPClassifier\n",
        "from sklearn.naive_bayes import BernoulliNB\n",
        "from sklearn.tree import DecisionTreeClassifier\n",
        "import numpy as np\n",
        "import matplotlib.pyplot as plt\n",
        "import seaborn as sns\n",
        "from sklearn.pipeline import Pipeline, FeatureUnion\n",
        "from sklearn.metrics import accuracy_score\n",
        "from sklearn.metrics import confusion_matrix\n",
        "from sklearn import metrics\n",
        "import warnings"
      ]
    },
    {
      "cell_type": "code",
      "source": [],
      "metadata": {
        "id": "CTLy4Qq9Znf-"
      },
      "execution_count": null,
      "outputs": []
    },
    {
      "cell_type": "code",
      "execution_count": 2,
      "metadata": {
        "colab": {
          "base_uri": "https://localhost:8080/"
        },
        "id": "kcvU6yyb5yXT",
        "outputId": "a0f490df-ba00-4a02-8de4-aee95f2d49f9"
      },
      "outputs": [
        {
          "output_type": "stream",
          "name": "stdout",
          "text": [
            "Mounted at /content/drive\n"
          ]
        }
      ],
      "source": [
        "from google.colab import drive\n",
        "drive.mount('/content/drive')"
      ]
    },
    {
      "cell_type": "code",
      "execution_count": 3,
      "metadata": {
        "id": "X6nn-VZm53wh"
      },
      "outputs": [],
      "source": [
        "df = pd.read_csv('/content/drive/MyDrive/totalwithmaininfo.csv',sep=',')\n",
        "df = df.drop(df.columns[0],axis=1)"
      ]
    },
    {
      "cell_type": "code",
      "execution_count": 4,
      "metadata": {
        "id": "bpyy8mYFk67z"
      },
      "outputs": [],
      "source": [
        "#y = df['Y'].values\n",
        "#X = df.drop(['Y'], axis = 1)\n",
        "#X_train, X_test, y_train, y_test = train_test_split(X,y,test_size = 0.20, random_state=30)"
      ]
    },
    {
      "cell_type": "code",
      "execution_count": 5,
      "metadata": {
        "id": "RwTdGfho5qNC"
      },
      "outputs": [],
      "source": [
        "train_percentage = 17/22\n",
        "train_index = int(len(df)*train_percentage)\n",
        "test_index = len(df)-train_index"
      ]
    },
    {
      "cell_type": "code",
      "execution_count": 6,
      "metadata": {
        "id": "vgLHIsFdllrg"
      },
      "outputs": [],
      "source": [
        "df_train = df[:train_index]\n",
        "df_test = df[-test_index:]"
      ]
    },
    {
      "cell_type": "code",
      "execution_count": 7,
      "metadata": {
        "id": "ViNHshJtlqmB"
      },
      "outputs": [],
      "source": [
        "X_test = df_test.drop([\"Y\"],axis=1)\n",
        "y_test = df_test[\"Y\"]"
      ]
    },
    {
      "cell_type": "code",
      "execution_count": 8,
      "metadata": {
        "id": "DS5o7YbLlqrx"
      },
      "outputs": [],
      "source": [
        "X_train = df_train.drop('Y',axis=1)\n",
        "y_train = df_train['Y']"
      ]
    },
    {
      "cell_type": "code",
      "execution_count": 9,
      "metadata": {
        "id": "4RtXa3y3cKcK"
      },
      "outputs": [],
      "source": [
        "def average(y_pred):\n",
        "  for i in range(len(y_pred)):\n",
        "    if i % 240 == 0 or (i+1) % 240 == 0:\n",
        "      pass\n",
        "    else:\n",
        "      average = float(y_pred[i-1] +  y_pred[i] + y_pred[i+1])/3\n",
        "      if average >= 0.5:\n",
        "        y_pred[i] = 1\n",
        "      else:\n",
        "        y_pred[i] = 0\n",
        "  return y_pred"
      ]
    },
    {
      "cell_type": "markdown",
      "metadata": {
        "id": "jskxKkq4k675"
      },
      "source": [
        "## 1. Logistic Regression"
      ]
    },
    {
      "cell_type": "code",
      "execution_count": 10,
      "metadata": {
        "colab": {
          "base_uri": "https://localhost:8080/"
        },
        "id": "GiTRhtZzk677",
        "outputId": "58a8efb3-99f6-491c-afda-aa47c080722d"
      },
      "outputs": [
        {
          "output_type": "stream",
          "name": "stdout",
          "text": [
            "[0.7233333333333334, 0.7077464788732396, 0.7668416666666668]\n",
            "[[932 268]\n",
            " [396 804]]\n"
          ]
        }
      ],
      "source": [
        "clf = LogisticRegression().fit(X_train, y_train)\n",
        "y_pred_1 = clf.predict(X_test)\n",
        "y_pred_1 = average(y_pred_1)\n",
        "y_score_1 = clf.predict_proba(X_test)[:,1]\n",
        "acc1 = accuracy_score(y_test, y_pred_1)\n",
        "f1_score_1 = metrics.f1_score(y_test, y_pred_1)\n",
        "roc_1 = metrics.roc_auc_score(y_test, y_score_1)\n",
        "print([acc1,f1_score_1,roc_1])\n",
        "print(confusion_matrix(y_test, y_pred_1))"
      ]
    },
    {
      "cell_type": "markdown",
      "metadata": {
        "id": "NixT9PWxk68C"
      },
      "source": [
        "## 2. Naive Bayes"
      ]
    },
    {
      "cell_type": "code",
      "execution_count": 11,
      "metadata": {
        "colab": {
          "base_uri": "https://localhost:8080/"
        },
        "id": "nFP2tCt1k68E",
        "outputId": "60d83f00-a11d-43c9-8573-4fec986cde0e"
      },
      "outputs": [
        {
          "output_type": "stream",
          "name": "stdout",
          "text": [
            "[0.6275, 0.6902286902286903, 0.5916055555555556]\n",
            "[[510 690]\n",
            " [204 996]]\n"
          ]
        }
      ],
      "source": [
        "clf_NB = GaussianNB()\n",
        "clf_NB.fit(X_train, y_train)\n",
        "pred_NB = clf_NB.predict(X_test)\n",
        "pred_NB = average(pred_NB)\n",
        "y_score_2 = clf_NB.predict_proba(X_test)[:,1]\n",
        "acc2 = accuracy_score(y_test, pred_NB)\n",
        "f1_score_2 = metrics.f1_score(y_test, pred_NB)\n",
        "roc_2 = metrics.roc_auc_score(y_test, y_score_2)\n",
        "print([acc2,f1_score_2,roc_2])\n",
        "print(confusion_matrix(y_test, pred_NB))"
      ]
    },
    {
      "cell_type": "markdown",
      "metadata": {
        "id": "OHZ-CCtjk68K"
      },
      "source": [
        "## 3. KNN"
      ]
    },
    {
      "cell_type": "code",
      "execution_count": 12,
      "metadata": {
        "id": "gREWQVD8k68M"
      },
      "outputs": [],
      "source": [
        "acc3_list = []\n",
        "f1_score3_list = []\n",
        "roc_3_list = []\n",
        "from sklearn.neighbors import KNeighborsClassifier\n",
        "for i in range(1,30):\n",
        "    neigh = KNeighborsClassifier(n_neighbors=i)\n",
        "    neigh.fit(X_train, y_train)\n",
        "    pred_KN = neigh.predict(X_test)\n",
        "    pred_KN = average(pred_KN)\n",
        "    y_score_3 = neigh.predict_proba(X_test)[:,1]\n",
        "    acc3_list.append(accuracy_score(y_test, pred_KN))\n",
        "    f1_score3_list.append(metrics.f1_score(y_test, pred_KN))\n",
        "    roc_3_list.append(metrics.roc_auc_score(y_test, y_score_3))"
      ]
    },
    {
      "cell_type": "code",
      "execution_count": 13,
      "metadata": {
        "colab": {
          "base_uri": "https://localhost:8080/"
        },
        "id": "973AlOEAEQ7r",
        "outputId": "1a41d7a9-d4ea-41ce-b864-c725547989a2"
      },
      "outputs": [
        {
          "output_type": "execute_result",
          "data": {
            "text/plain": [
              "6"
            ]
          },
          "metadata": {},
          "execution_count": 13
        }
      ],
      "source": [
        "acc3_list.index(max(acc3_list))+1"
      ]
    },
    {
      "cell_type": "code",
      "execution_count": 14,
      "metadata": {
        "colab": {
          "base_uri": "https://localhost:8080/"
        },
        "id": "Fg8tGkxK3sWb",
        "outputId": "bd783304-55fc-4326-df1a-5ac0c60fdf0a"
      },
      "outputs": [
        {
          "output_type": "stream",
          "name": "stdout",
          "text": [
            "[0.7175, 0.6319218241042345, 0.7456756944444444]\n",
            "[[1140   60]\n",
            " [ 618  582]]\n"
          ]
        }
      ],
      "source": [
        "neigh = KNeighborsClassifier(n_neighbors=acc3_list.index(max(acc3_list))+1)\n",
        "neigh.fit(X_train, y_train)\n",
        "pred_KN = neigh.predict(X_test)\n",
        "pred_KN = average(pred_KN)\n",
        "y_score_3 = neigh.predict_proba(X_test)[:,1]\n",
        "acc3 = accuracy_score(y_test, pred_KN)\n",
        "f1_score_3 = metrics.f1_score(y_test, pred_KN)\n",
        "roc_3 = metrics.roc_auc_score(y_test, y_score_3)\n",
        "print([acc3,f1_score_3,roc_3])\n",
        "print(confusion_matrix(y_test, pred_KN))"
      ]
    },
    {
      "cell_type": "markdown",
      "metadata": {
        "id": "k5fK235xk68T"
      },
      "source": [
        "## 4. MLP"
      ]
    },
    {
      "cell_type": "code",
      "execution_count": 15,
      "metadata": {
        "colab": {
          "base_uri": "https://localhost:8080/"
        },
        "id": "is1RmvuIk68V",
        "outputId": "a7a439c3-bcae-4ceb-99ce-dc2f43f67e1b"
      },
      "outputs": [
        {
          "output_type": "stream",
          "name": "stderr",
          "text": [
            "/usr/local/lib/python3.10/dist-packages/sklearn/neural_network/_multilayer_perceptron.py:686: ConvergenceWarning: Stochastic Optimizer: Maximum iterations (200) reached and the optimization hasn't converged yet.\n",
            "  warnings.warn(\n",
            "/usr/local/lib/python3.10/dist-packages/sklearn/neural_network/_multilayer_perceptron.py:686: ConvergenceWarning: Stochastic Optimizer: Maximum iterations (200) reached and the optimization hasn't converged yet.\n",
            "  warnings.warn(\n",
            "/usr/local/lib/python3.10/dist-packages/sklearn/neural_network/_multilayer_perceptron.py:686: ConvergenceWarning: Stochastic Optimizer: Maximum iterations (200) reached and the optimization hasn't converged yet.\n",
            "  warnings.warn(\n",
            "/usr/local/lib/python3.10/dist-packages/sklearn/neural_network/_multilayer_perceptron.py:686: ConvergenceWarning: Stochastic Optimizer: Maximum iterations (200) reached and the optimization hasn't converged yet.\n",
            "  warnings.warn(\n",
            "/usr/local/lib/python3.10/dist-packages/sklearn/neural_network/_multilayer_perceptron.py:686: ConvergenceWarning: Stochastic Optimizer: Maximum iterations (200) reached and the optimization hasn't converged yet.\n",
            "  warnings.warn(\n",
            "/usr/local/lib/python3.10/dist-packages/sklearn/neural_network/_multilayer_perceptron.py:686: ConvergenceWarning: Stochastic Optimizer: Maximum iterations (200) reached and the optimization hasn't converged yet.\n",
            "  warnings.warn(\n",
            "/usr/local/lib/python3.10/dist-packages/sklearn/neural_network/_multilayer_perceptron.py:686: ConvergenceWarning: Stochastic Optimizer: Maximum iterations (200) reached and the optimization hasn't converged yet.\n",
            "  warnings.warn(\n",
            "/usr/local/lib/python3.10/dist-packages/sklearn/neural_network/_multilayer_perceptron.py:686: ConvergenceWarning: Stochastic Optimizer: Maximum iterations (200) reached and the optimization hasn't converged yet.\n",
            "  warnings.warn(\n",
            "/usr/local/lib/python3.10/dist-packages/sklearn/neural_network/_multilayer_perceptron.py:686: ConvergenceWarning: Stochastic Optimizer: Maximum iterations (200) reached and the optimization hasn't converged yet.\n",
            "  warnings.warn(\n",
            "/usr/local/lib/python3.10/dist-packages/sklearn/neural_network/_multilayer_perceptron.py:686: ConvergenceWarning: Stochastic Optimizer: Maximum iterations (200) reached and the optimization hasn't converged yet.\n",
            "  warnings.warn(\n",
            "/usr/local/lib/python3.10/dist-packages/sklearn/neural_network/_multilayer_perceptron.py:686: ConvergenceWarning: Stochastic Optimizer: Maximum iterations (200) reached and the optimization hasn't converged yet.\n",
            "  warnings.warn(\n",
            "/usr/local/lib/python3.10/dist-packages/sklearn/neural_network/_multilayer_perceptron.py:686: ConvergenceWarning: Stochastic Optimizer: Maximum iterations (200) reached and the optimization hasn't converged yet.\n",
            "  warnings.warn(\n",
            "/usr/local/lib/python3.10/dist-packages/sklearn/neural_network/_multilayer_perceptron.py:686: ConvergenceWarning: Stochastic Optimizer: Maximum iterations (200) reached and the optimization hasn't converged yet.\n",
            "  warnings.warn(\n",
            "/usr/local/lib/python3.10/dist-packages/sklearn/neural_network/_multilayer_perceptron.py:686: ConvergenceWarning: Stochastic Optimizer: Maximum iterations (200) reached and the optimization hasn't converged yet.\n",
            "  warnings.warn(\n",
            "/usr/local/lib/python3.10/dist-packages/sklearn/neural_network/_multilayer_perceptron.py:541: ConvergenceWarning: lbfgs failed to converge (status=1):\n",
            "STOP: TOTAL NO. of ITERATIONS REACHED LIMIT.\n",
            "\n",
            "Increase the number of iterations (max_iter) or scale the data as shown in:\n",
            "    https://scikit-learn.org/stable/modules/preprocessing.html\n",
            "  self.n_iter_ = _check_optimize_result(\"lbfgs\", opt_res, self.max_iter)\n",
            "/usr/local/lib/python3.10/dist-packages/sklearn/neural_network/_multilayer_perceptron.py:541: ConvergenceWarning: lbfgs failed to converge (status=1):\n",
            "STOP: TOTAL NO. of ITERATIONS REACHED LIMIT.\n",
            "\n",
            "Increase the number of iterations (max_iter) or scale the data as shown in:\n",
            "    https://scikit-learn.org/stable/modules/preprocessing.html\n",
            "  self.n_iter_ = _check_optimize_result(\"lbfgs\", opt_res, self.max_iter)\n",
            "/usr/local/lib/python3.10/dist-packages/sklearn/neural_network/_multilayer_perceptron.py:541: ConvergenceWarning: lbfgs failed to converge (status=1):\n",
            "STOP: TOTAL NO. of ITERATIONS REACHED LIMIT.\n",
            "\n",
            "Increase the number of iterations (max_iter) or scale the data as shown in:\n",
            "    https://scikit-learn.org/stable/modules/preprocessing.html\n",
            "  self.n_iter_ = _check_optimize_result(\"lbfgs\", opt_res, self.max_iter)\n",
            "/usr/local/lib/python3.10/dist-packages/sklearn/neural_network/_multilayer_perceptron.py:541: ConvergenceWarning: lbfgs failed to converge (status=1):\n",
            "STOP: TOTAL NO. of ITERATIONS REACHED LIMIT.\n",
            "\n",
            "Increase the number of iterations (max_iter) or scale the data as shown in:\n",
            "    https://scikit-learn.org/stable/modules/preprocessing.html\n",
            "  self.n_iter_ = _check_optimize_result(\"lbfgs\", opt_res, self.max_iter)\n",
            "/usr/local/lib/python3.10/dist-packages/sklearn/neural_network/_multilayer_perceptron.py:541: ConvergenceWarning: lbfgs failed to converge (status=1):\n",
            "STOP: TOTAL NO. of ITERATIONS REACHED LIMIT.\n",
            "\n",
            "Increase the number of iterations (max_iter) or scale the data as shown in:\n",
            "    https://scikit-learn.org/stable/modules/preprocessing.html\n",
            "  self.n_iter_ = _check_optimize_result(\"lbfgs\", opt_res, self.max_iter)\n",
            "/usr/local/lib/python3.10/dist-packages/sklearn/neural_network/_multilayer_perceptron.py:541: ConvergenceWarning: lbfgs failed to converge (status=1):\n",
            "STOP: TOTAL NO. of ITERATIONS REACHED LIMIT.\n",
            "\n",
            "Increase the number of iterations (max_iter) or scale the data as shown in:\n",
            "    https://scikit-learn.org/stable/modules/preprocessing.html\n",
            "  self.n_iter_ = _check_optimize_result(\"lbfgs\", opt_res, self.max_iter)\n",
            "/usr/local/lib/python3.10/dist-packages/sklearn/neural_network/_multilayer_perceptron.py:541: ConvergenceWarning: lbfgs failed to converge (status=1):\n",
            "STOP: TOTAL NO. of ITERATIONS REACHED LIMIT.\n",
            "\n",
            "Increase the number of iterations (max_iter) or scale the data as shown in:\n",
            "    https://scikit-learn.org/stable/modules/preprocessing.html\n",
            "  self.n_iter_ = _check_optimize_result(\"lbfgs\", opt_res, self.max_iter)\n",
            "/usr/local/lib/python3.10/dist-packages/sklearn/neural_network/_multilayer_perceptron.py:686: ConvergenceWarning: Stochastic Optimizer: Maximum iterations (200) reached and the optimization hasn't converged yet.\n",
            "  warnings.warn(\n",
            "/usr/local/lib/python3.10/dist-packages/sklearn/neural_network/_multilayer_perceptron.py:686: ConvergenceWarning: Stochastic Optimizer: Maximum iterations (200) reached and the optimization hasn't converged yet.\n",
            "  warnings.warn(\n",
            "/usr/local/lib/python3.10/dist-packages/sklearn/neural_network/_multilayer_perceptron.py:686: ConvergenceWarning: Stochastic Optimizer: Maximum iterations (200) reached and the optimization hasn't converged yet.\n",
            "  warnings.warn(\n",
            "/usr/local/lib/python3.10/dist-packages/sklearn/neural_network/_multilayer_perceptron.py:686: ConvergenceWarning: Stochastic Optimizer: Maximum iterations (200) reached and the optimization hasn't converged yet.\n",
            "  warnings.warn(\n",
            "/usr/local/lib/python3.10/dist-packages/sklearn/neural_network/_multilayer_perceptron.py:686: ConvergenceWarning: Stochastic Optimizer: Maximum iterations (200) reached and the optimization hasn't converged yet.\n",
            "  warnings.warn(\n",
            "/usr/local/lib/python3.10/dist-packages/sklearn/neural_network/_multilayer_perceptron.py:686: ConvergenceWarning: Stochastic Optimizer: Maximum iterations (200) reached and the optimization hasn't converged yet.\n",
            "  warnings.warn(\n",
            "/usr/local/lib/python3.10/dist-packages/sklearn/neural_network/_multilayer_perceptron.py:686: ConvergenceWarning: Stochastic Optimizer: Maximum iterations (200) reached and the optimization hasn't converged yet.\n",
            "  warnings.warn(\n",
            "/usr/local/lib/python3.10/dist-packages/sklearn/neural_network/_multilayer_perceptron.py:686: ConvergenceWarning: Stochastic Optimizer: Maximum iterations (200) reached and the optimization hasn't converged yet.\n",
            "  warnings.warn(\n",
            "/usr/local/lib/python3.10/dist-packages/sklearn/neural_network/_multilayer_perceptron.py:686: ConvergenceWarning: Stochastic Optimizer: Maximum iterations (200) reached and the optimization hasn't converged yet.\n",
            "  warnings.warn(\n",
            "/usr/local/lib/python3.10/dist-packages/sklearn/neural_network/_multilayer_perceptron.py:686: ConvergenceWarning: Stochastic Optimizer: Maximum iterations (200) reached and the optimization hasn't converged yet.\n",
            "  warnings.warn(\n",
            "/usr/local/lib/python3.10/dist-packages/sklearn/neural_network/_multilayer_perceptron.py:686: ConvergenceWarning: Stochastic Optimizer: Maximum iterations (200) reached and the optimization hasn't converged yet.\n",
            "  warnings.warn(\n",
            "/usr/local/lib/python3.10/dist-packages/sklearn/neural_network/_multilayer_perceptron.py:686: ConvergenceWarning: Stochastic Optimizer: Maximum iterations (200) reached and the optimization hasn't converged yet.\n",
            "  warnings.warn(\n",
            "/usr/local/lib/python3.10/dist-packages/sklearn/neural_network/_multilayer_perceptron.py:686: ConvergenceWarning: Stochastic Optimizer: Maximum iterations (200) reached and the optimization hasn't converged yet.\n",
            "  warnings.warn(\n",
            "/usr/local/lib/python3.10/dist-packages/sklearn/neural_network/_multilayer_perceptron.py:686: ConvergenceWarning: Stochastic Optimizer: Maximum iterations (200) reached and the optimization hasn't converged yet.\n",
            "  warnings.warn(\n",
            "/usr/local/lib/python3.10/dist-packages/sklearn/neural_network/_multilayer_perceptron.py:541: ConvergenceWarning: lbfgs failed to converge (status=1):\n",
            "STOP: TOTAL NO. of ITERATIONS REACHED LIMIT.\n",
            "\n",
            "Increase the number of iterations (max_iter) or scale the data as shown in:\n",
            "    https://scikit-learn.org/stable/modules/preprocessing.html\n",
            "  self.n_iter_ = _check_optimize_result(\"lbfgs\", opt_res, self.max_iter)\n",
            "/usr/local/lib/python3.10/dist-packages/sklearn/neural_network/_multilayer_perceptron.py:541: ConvergenceWarning: lbfgs failed to converge (status=1):\n",
            "STOP: TOTAL NO. of ITERATIONS REACHED LIMIT.\n",
            "\n",
            "Increase the number of iterations (max_iter) or scale the data as shown in:\n",
            "    https://scikit-learn.org/stable/modules/preprocessing.html\n",
            "  self.n_iter_ = _check_optimize_result(\"lbfgs\", opt_res, self.max_iter)\n",
            "/usr/local/lib/python3.10/dist-packages/sklearn/neural_network/_multilayer_perceptron.py:541: ConvergenceWarning: lbfgs failed to converge (status=1):\n",
            "STOP: TOTAL NO. of ITERATIONS REACHED LIMIT.\n",
            "\n",
            "Increase the number of iterations (max_iter) or scale the data as shown in:\n",
            "    https://scikit-learn.org/stable/modules/preprocessing.html\n",
            "  self.n_iter_ = _check_optimize_result(\"lbfgs\", opt_res, self.max_iter)\n",
            "/usr/local/lib/python3.10/dist-packages/sklearn/neural_network/_multilayer_perceptron.py:541: ConvergenceWarning: lbfgs failed to converge (status=1):\n",
            "STOP: TOTAL NO. of ITERATIONS REACHED LIMIT.\n",
            "\n",
            "Increase the number of iterations (max_iter) or scale the data as shown in:\n",
            "    https://scikit-learn.org/stable/modules/preprocessing.html\n",
            "  self.n_iter_ = _check_optimize_result(\"lbfgs\", opt_res, self.max_iter)\n",
            "/usr/local/lib/python3.10/dist-packages/sklearn/neural_network/_multilayer_perceptron.py:541: ConvergenceWarning: lbfgs failed to converge (status=1):\n",
            "STOP: TOTAL NO. of ITERATIONS REACHED LIMIT.\n",
            "\n",
            "Increase the number of iterations (max_iter) or scale the data as shown in:\n",
            "    https://scikit-learn.org/stable/modules/preprocessing.html\n",
            "  self.n_iter_ = _check_optimize_result(\"lbfgs\", opt_res, self.max_iter)\n",
            "/usr/local/lib/python3.10/dist-packages/sklearn/neural_network/_multilayer_perceptron.py:541: ConvergenceWarning: lbfgs failed to converge (status=1):\n",
            "STOP: TOTAL NO. of ITERATIONS REACHED LIMIT.\n",
            "\n",
            "Increase the number of iterations (max_iter) or scale the data as shown in:\n",
            "    https://scikit-learn.org/stable/modules/preprocessing.html\n",
            "  self.n_iter_ = _check_optimize_result(\"lbfgs\", opt_res, self.max_iter)\n",
            "/usr/local/lib/python3.10/dist-packages/sklearn/neural_network/_multilayer_perceptron.py:541: ConvergenceWarning: lbfgs failed to converge (status=1):\n",
            "STOP: TOTAL NO. of ITERATIONS REACHED LIMIT.\n",
            "\n",
            "Increase the number of iterations (max_iter) or scale the data as shown in:\n",
            "    https://scikit-learn.org/stable/modules/preprocessing.html\n",
            "  self.n_iter_ = _check_optimize_result(\"lbfgs\", opt_res, self.max_iter)\n",
            "/usr/local/lib/python3.10/dist-packages/sklearn/neural_network/_multilayer_perceptron.py:686: ConvergenceWarning: Stochastic Optimizer: Maximum iterations (200) reached and the optimization hasn't converged yet.\n",
            "  warnings.warn(\n",
            "/usr/local/lib/python3.10/dist-packages/sklearn/neural_network/_multilayer_perceptron.py:686: ConvergenceWarning: Stochastic Optimizer: Maximum iterations (200) reached and the optimization hasn't converged yet.\n",
            "  warnings.warn(\n",
            "/usr/local/lib/python3.10/dist-packages/sklearn/neural_network/_multilayer_perceptron.py:686: ConvergenceWarning: Stochastic Optimizer: Maximum iterations (200) reached and the optimization hasn't converged yet.\n",
            "  warnings.warn(\n",
            "/usr/local/lib/python3.10/dist-packages/sklearn/neural_network/_multilayer_perceptron.py:686: ConvergenceWarning: Stochastic Optimizer: Maximum iterations (200) reached and the optimization hasn't converged yet.\n",
            "  warnings.warn(\n",
            "/usr/local/lib/python3.10/dist-packages/sklearn/neural_network/_multilayer_perceptron.py:686: ConvergenceWarning: Stochastic Optimizer: Maximum iterations (200) reached and the optimization hasn't converged yet.\n",
            "  warnings.warn(\n",
            "/usr/local/lib/python3.10/dist-packages/sklearn/neural_network/_multilayer_perceptron.py:686: ConvergenceWarning: Stochastic Optimizer: Maximum iterations (200) reached and the optimization hasn't converged yet.\n",
            "  warnings.warn(\n",
            "/usr/local/lib/python3.10/dist-packages/sklearn/neural_network/_multilayer_perceptron.py:686: ConvergenceWarning: Stochastic Optimizer: Maximum iterations (200) reached and the optimization hasn't converged yet.\n",
            "  warnings.warn(\n",
            "/usr/local/lib/python3.10/dist-packages/sklearn/neural_network/_multilayer_perceptron.py:686: ConvergenceWarning: Stochastic Optimizer: Maximum iterations (200) reached and the optimization hasn't converged yet.\n",
            "  warnings.warn(\n",
            "/usr/local/lib/python3.10/dist-packages/sklearn/neural_network/_multilayer_perceptron.py:686: ConvergenceWarning: Stochastic Optimizer: Maximum iterations (200) reached and the optimization hasn't converged yet.\n",
            "  warnings.warn(\n",
            "/usr/local/lib/python3.10/dist-packages/sklearn/neural_network/_multilayer_perceptron.py:686: ConvergenceWarning: Stochastic Optimizer: Maximum iterations (200) reached and the optimization hasn't converged yet.\n",
            "  warnings.warn(\n",
            "/usr/local/lib/python3.10/dist-packages/sklearn/neural_network/_multilayer_perceptron.py:686: ConvergenceWarning: Stochastic Optimizer: Maximum iterations (200) reached and the optimization hasn't converged yet.\n",
            "  warnings.warn(\n",
            "/usr/local/lib/python3.10/dist-packages/sklearn/neural_network/_multilayer_perceptron.py:541: ConvergenceWarning: lbfgs failed to converge (status=1):\n",
            "STOP: TOTAL NO. of ITERATIONS REACHED LIMIT.\n",
            "\n",
            "Increase the number of iterations (max_iter) or scale the data as shown in:\n",
            "    https://scikit-learn.org/stable/modules/preprocessing.html\n",
            "  self.n_iter_ = _check_optimize_result(\"lbfgs\", opt_res, self.max_iter)\n",
            "/usr/local/lib/python3.10/dist-packages/sklearn/neural_network/_multilayer_perceptron.py:541: ConvergenceWarning: lbfgs failed to converge (status=1):\n",
            "STOP: TOTAL NO. of ITERATIONS REACHED LIMIT.\n",
            "\n",
            "Increase the number of iterations (max_iter) or scale the data as shown in:\n",
            "    https://scikit-learn.org/stable/modules/preprocessing.html\n",
            "  self.n_iter_ = _check_optimize_result(\"lbfgs\", opt_res, self.max_iter)\n",
            "/usr/local/lib/python3.10/dist-packages/sklearn/neural_network/_multilayer_perceptron.py:541: ConvergenceWarning: lbfgs failed to converge (status=1):\n",
            "STOP: TOTAL NO. of ITERATIONS REACHED LIMIT.\n",
            "\n",
            "Increase the number of iterations (max_iter) or scale the data as shown in:\n",
            "    https://scikit-learn.org/stable/modules/preprocessing.html\n",
            "  self.n_iter_ = _check_optimize_result(\"lbfgs\", opt_res, self.max_iter)\n",
            "/usr/local/lib/python3.10/dist-packages/sklearn/neural_network/_multilayer_perceptron.py:541: ConvergenceWarning: lbfgs failed to converge (status=1):\n",
            "STOP: TOTAL NO. of ITERATIONS REACHED LIMIT.\n",
            "\n",
            "Increase the number of iterations (max_iter) or scale the data as shown in:\n",
            "    https://scikit-learn.org/stable/modules/preprocessing.html\n",
            "  self.n_iter_ = _check_optimize_result(\"lbfgs\", opt_res, self.max_iter)\n",
            "/usr/local/lib/python3.10/dist-packages/sklearn/neural_network/_multilayer_perceptron.py:541: ConvergenceWarning: lbfgs failed to converge (status=1):\n",
            "STOP: TOTAL NO. of ITERATIONS REACHED LIMIT.\n",
            "\n",
            "Increase the number of iterations (max_iter) or scale the data as shown in:\n",
            "    https://scikit-learn.org/stable/modules/preprocessing.html\n",
            "  self.n_iter_ = _check_optimize_result(\"lbfgs\", opt_res, self.max_iter)\n",
            "/usr/local/lib/python3.10/dist-packages/sklearn/neural_network/_multilayer_perceptron.py:541: ConvergenceWarning: lbfgs failed to converge (status=1):\n",
            "STOP: TOTAL NO. of ITERATIONS REACHED LIMIT.\n",
            "\n",
            "Increase the number of iterations (max_iter) or scale the data as shown in:\n",
            "    https://scikit-learn.org/stable/modules/preprocessing.html\n",
            "  self.n_iter_ = _check_optimize_result(\"lbfgs\", opt_res, self.max_iter)\n",
            "/usr/local/lib/python3.10/dist-packages/sklearn/neural_network/_multilayer_perceptron.py:541: ConvergenceWarning: lbfgs failed to converge (status=1):\n",
            "STOP: TOTAL NO. of ITERATIONS REACHED LIMIT.\n",
            "\n",
            "Increase the number of iterations (max_iter) or scale the data as shown in:\n",
            "    https://scikit-learn.org/stable/modules/preprocessing.html\n",
            "  self.n_iter_ = _check_optimize_result(\"lbfgs\", opt_res, self.max_iter)\n"
          ]
        }
      ],
      "source": [
        "from sklearn.neural_network import MLPClassifier\n",
        "\n",
        "F1_score_4_list = []\n",
        "acc4_list = []\n",
        "roc_4_list = []\n",
        "mlp = []\n",
        "\n",
        "hidden_units = [10,20,30,40,50,60,70]\n",
        "optimizer = ['sgd','adam','lbfgs']\n",
        "activation = ['logistic','tanh','relu']\n",
        "for j in activation:\n",
        "    for i in optimizer:\n",
        "        for k in hidden_units:\n",
        "              clf_MLP = MLPClassifier(hidden_layer_sizes= k, activation =  j, solver= i)\n",
        "              clf_MLP.fit(X_train, y_train)\n",
        "              pred_MLP = clf_MLP.predict(X_test)\n",
        "              pred_MLP = average(pred_MLP)\n",
        "              y_score_4 = clf_MLP.predict_proba(X_test)[:,1]\n",
        "              acc4_list.append(accuracy_score(y_test,pred_MLP))\n",
        "              roc_4_list.append(metrics.roc_auc_score(y_test, y_score_4))\n",
        "              F1_score_4_list.append(metrics.f1_score(y_test, pred_MLP))\n",
        "              mlp.append([j,i,k])"
      ]
    },
    {
      "cell_type": "code",
      "execution_count": 16,
      "metadata": {
        "colab": {
          "base_uri": "https://localhost:8080/"
        },
        "id": "ImtrNfvP56BA",
        "outputId": "57bd55d7-cd92-4e84-a906-6aaeadead92a"
      },
      "outputs": [
        {
          "output_type": "stream",
          "name": "stdout",
          "text": [
            "Best Accuracy:  0.7233333333333334\n",
            "Best Combination: ['relu', 'sgd', 10]\n"
          ]
        }
      ],
      "source": [
        "print(\"Best Accuracy: \", max(acc4_list))\n",
        "min_index = acc4_list.index(max(acc4_list))\n",
        "print(\"Best Combination:\", mlp[min_index])"
      ]
    },
    {
      "cell_type": "code",
      "execution_count": 17,
      "metadata": {
        "colab": {
          "base_uri": "https://localhost:8080/"
        },
        "id": "jGLdxNRj4o2s",
        "outputId": "019fb07d-1bfe-45b1-bb54-7a764b69e912"
      },
      "outputs": [
        {
          "output_type": "stream",
          "name": "stdout",
          "text": [
            "[0.71, 0.7100000000000001, 0.7580416666666666]\n",
            "[[852 348]\n",
            " [348 852]]\n"
          ]
        },
        {
          "output_type": "stream",
          "name": "stderr",
          "text": [
            "/usr/local/lib/python3.10/dist-packages/sklearn/neural_network/_multilayer_perceptron.py:686: ConvergenceWarning: Stochastic Optimizer: Maximum iterations (200) reached and the optimization hasn't converged yet.\n",
            "  warnings.warn(\n"
          ]
        }
      ],
      "source": [
        "clf_MLP = MLPClassifier(hidden_layer_sizes= mlp[min_index][2], activation =  mlp[min_index][0], solver= mlp[min_index][1])\n",
        "clf_MLP.fit(X_train, y_train)\n",
        "pred_MLP = clf_MLP.predict(X_test)\n",
        "pred_MLP = average(pred_MLP)\n",
        "y_score_4 = clf_MLP.predict_proba(X_test)[:,1]\n",
        "acc4 = accuracy_score(y_test,pred_MLP)\n",
        "f1_score_4 = metrics.f1_score(y_test, pred_MLP)\n",
        "roc_4 = metrics.roc_auc_score(y_test, y_score_4)\n",
        "print([acc4,f1_score_4,roc_4])\n",
        "print(confusion_matrix(y_test, pred_MLP))"
      ]
    },
    {
      "cell_type": "markdown",
      "metadata": {
        "id": "Kn7vFHlNk68b"
      },
      "source": [
        "## 5. Decision Tree"
      ]
    },
    {
      "cell_type": "code",
      "execution_count": 18,
      "metadata": {
        "colab": {
          "base_uri": "https://localhost:8080/"
        },
        "id": "1kJSJ3V4k68d",
        "outputId": "63633972-e80b-485e-bcf6-a8a76bebf528"
      },
      "outputs": [
        {
          "output_type": "stream",
          "name": "stdout",
          "text": [
            "0.7191666666666666\n"
          ]
        }
      ],
      "source": [
        "from sklearn.tree import DecisionTreeClassifier\n",
        "acc5=[]\n",
        "max_depth = []\n",
        "for i in [2,3,4,5,6,7,8,9,10]:\n",
        "    clf_DT = DecisionTreeClassifier(random_state=0, max_depth = i)\n",
        "    clf_DT.fit(X_train, y_train)\n",
        "    pred_DT = clf_DT.predict(X_test)\n",
        "    pred_DT = average(pred_DT)\n",
        "    acc5.append(accuracy_score(pred_DT, y_test))\n",
        "    max_depth.append(i)\n",
        "print (max(acc5))"
      ]
    },
    {
      "cell_type": "code",
      "execution_count": 19,
      "metadata": {
        "id": "xCMzl0MH_TvR"
      },
      "outputs": [],
      "source": [
        " best_depth = max_depth[acc5.index(max(acc5))]"
      ]
    },
    {
      "cell_type": "code",
      "execution_count": 20,
      "metadata": {
        "colab": {
          "base_uri": "https://localhost:8080/"
        },
        "id": "miGWdN2wF1yr",
        "outputId": "5e927674-7a78-4685-ed99-e5397e889a7d"
      },
      "outputs": [
        {
          "output_type": "execute_result",
          "data": {
            "text/plain": [
              "5"
            ]
          },
          "metadata": {},
          "execution_count": 20
        }
      ],
      "source": [
        " best_depth"
      ]
    },
    {
      "cell_type": "code",
      "execution_count": 21,
      "metadata": {
        "colab": {
          "base_uri": "https://localhost:8080/"
        },
        "id": "U1sfwzNN8Snd",
        "outputId": "ae1155f0-bf16-409e-df0d-2753369e3730"
      },
      "outputs": [
        {
          "output_type": "stream",
          "name": "stdout",
          "text": [
            "[0.7191666666666666, 0.7107296137339055, 0.7717645833333333]\n",
            "[[898 302]\n",
            " [372 828]]\n"
          ]
        }
      ],
      "source": [
        "clf_DT = DecisionTreeClassifier(random_state=0, max_depth = best_depth)\n",
        "clf_DT.fit(X_train, y_train)\n",
        "pred_DT = clf_DT.predict(X_test)\n",
        "pred_DT = average(pred_DT)\n",
        "y_score_5 = clf_DT.predict_proba(X_test)[:,1]\n",
        "acc5 = accuracy_score(y_test, pred_DT)\n",
        "f1_score_5 = metrics.f1_score(y_test, pred_DT)\n",
        "roc_5 = metrics.roc_auc_score(y_test, y_score_5)\n",
        "print([acc5,f1_score_5,roc_5])\n",
        "print(confusion_matrix(y_test, pred_DT))"
      ]
    },
    {
      "cell_type": "markdown",
      "metadata": {
        "id": "PG7poh8Kk68j"
      },
      "source": [
        "## 6. Random Forest"
      ]
    },
    {
      "cell_type": "code",
      "execution_count": 22,
      "metadata": {
        "colab": {
          "base_uri": "https://localhost:8080/"
        },
        "id": "k7_ztnWek68m",
        "outputId": "0f895f91-a9db-43ca-eefa-b891a8d0f84e"
      },
      "outputs": [
        {
          "output_type": "stream",
          "name": "stdout",
          "text": [
            "0.6766666666666666\n"
          ]
        }
      ],
      "source": [
        "from sklearn.ensemble import RandomForestClassifier\n",
        "acc6=[]\n",
        "max_depth = []\n",
        "for i in range(1,10):\n",
        "    clf_RF = RandomForestClassifier(max_depth=i)\n",
        "    clf_RF.fit(X_train, y_train)\n",
        "    pred_RF = clf_RF.predict(X_test)\n",
        "    pred_RF = average(pred_RF)\n",
        "    acc6.append(accuracy_score(pred_RF, y_test))\n",
        "    max_depth.append(i)\n",
        "print (max(acc6))"
      ]
    },
    {
      "cell_type": "code",
      "execution_count": 23,
      "metadata": {
        "id": "PHaLIiPTATEK"
      },
      "outputs": [],
      "source": [
        "best_depth_6 = max_depth[acc6.index(max(acc6))]"
      ]
    },
    {
      "cell_type": "code",
      "execution_count": 24,
      "metadata": {
        "colab": {
          "base_uri": "https://localhost:8080/"
        },
        "id": "1VJOMISyF6Em",
        "outputId": "adcb0677-d7b9-4853-c300-22194febfd76"
      },
      "outputs": [
        {
          "output_type": "execute_result",
          "data": {
            "text/plain": [
              "7"
            ]
          },
          "metadata": {},
          "execution_count": 24
        }
      ],
      "source": [
        "best_depth_6"
      ]
    },
    {
      "cell_type": "code",
      "execution_count": 25,
      "metadata": {
        "colab": {
          "base_uri": "https://localhost:8080/"
        },
        "id": "WV_eusTUk68r",
        "outputId": "eb8d56fe-52a9-4ace-f14c-e206487e6136"
      },
      "outputs": [
        {
          "output_type": "stream",
          "name": "stdout",
          "text": [
            "[0.6783333333333333, 0.7465528562048588, 0.8216611111111112]\n",
            "[[ 491  709]\n",
            " [  63 1137]]\n"
          ]
        }
      ],
      "source": [
        "clf_RF = RandomForestClassifier(max_depth=best_depth_6)\n",
        "clf_RF.fit(X_train, y_train)\n",
        "pred_RF = clf_RF.predict(X_test)\n",
        "pred_RF = average(pred_RF)\n",
        "y_score_6 = clf_RF.predict_proba(X_test)[:,1]\n",
        "acc6 = accuracy_score(y_test, pred_RF)\n",
        "f1_score_6 = metrics.f1_score(y_test, pred_RF)\n",
        "roc_6 = metrics.roc_auc_score(y_test, y_score_6)\n",
        "print([acc6,f1_score_6,roc_6])\n",
        "print(confusion_matrix(y_test, pred_RF))\n",
        "\n",
        "feature_importances = pd.DataFrame(clf_RF.feature_importances_,\n",
        "                                   index = X_train.columns,\n",
        "                                    columns=['importance']).sort_values('importance',ascending=False)"
      ]
    },
    {
      "cell_type": "code",
      "execution_count": 26,
      "metadata": {
        "colab": {
          "base_uri": "https://localhost:8080/"
        },
        "id": "wauh7qoabmZQ",
        "outputId": "89114bc1-82fa-4fec-a4b5-f57a104f3518"
      },
      "outputs": [
        {
          "output_type": "stream",
          "name": "stdout",
          "text": [
            "[0.7208333333333333, 0.7436878347360367, 0.8259854166666667]\n",
            "[[758 442]\n",
            " [228 972]]\n"
          ]
        }
      ],
      "source": [
        "from numpy import loadtxt\n",
        "from xgboost import XGBClassifier\n",
        "from sklearn.metrics import accuracy_score\n",
        "from numpy import loadtxt\n",
        "from xgboost import XGBClassifier\n",
        "\n",
        "clf_XGB = XGBClassifier()\n",
        "clf_XGB.fit(X_train, y_train)\n",
        "pred_XGB = clf_XGB.predict(X_test)\n",
        "pred_XGB = average(pred_XGB)\n",
        "y_score_8 = clf_XGB.predict_proba(X_test)[:,1]\n",
        "acc8 = accuracy_score(y_test,pred_XGB)\n",
        "f1_score_8 = metrics.f1_score(y_test, pred_XGB)\n",
        "roc_8 = metrics.roc_auc_score(y_test, y_score_8)\n",
        "print([acc8,f1_score_8,roc_8])\n",
        "print(confusion_matrix(y_test, pred_XGB))"
      ]
    },
    {
      "cell_type": "code",
      "execution_count": 27,
      "metadata": {
        "colab": {
          "base_uri": "https://localhost:8080/",
          "height": 300
        },
        "id": "7TXg-hkpk68z",
        "outputId": "7b97a57e-67bd-4d64-8753-78115aee7992"
      },
      "outputs": [
        {
          "output_type": "execute_result",
          "data": {
            "text/plain": [
              "               importance\n",
              "MAR_N            0.253711\n",
              "MAR              0.196461\n",
              "MOE_N            0.142398\n",
              "MOE              0.112398\n",
              "Circularity      0.105215\n",
              "EAR_N            0.072584\n",
              "Circularity_N    0.065470\n",
              "EAR              0.051762"
            ],
            "text/html": [
              "\n",
              "  <div id=\"df-dfe15250-cdf1-4480-8242-404e9d05ce32\" class=\"colab-df-container\">\n",
              "    <div>\n",
              "<style scoped>\n",
              "    .dataframe tbody tr th:only-of-type {\n",
              "        vertical-align: middle;\n",
              "    }\n",
              "\n",
              "    .dataframe tbody tr th {\n",
              "        vertical-align: top;\n",
              "    }\n",
              "\n",
              "    .dataframe thead th {\n",
              "        text-align: right;\n",
              "    }\n",
              "</style>\n",
              "<table border=\"1\" class=\"dataframe\">\n",
              "  <thead>\n",
              "    <tr style=\"text-align: right;\">\n",
              "      <th></th>\n",
              "      <th>importance</th>\n",
              "    </tr>\n",
              "  </thead>\n",
              "  <tbody>\n",
              "    <tr>\n",
              "      <th>MAR_N</th>\n",
              "      <td>0.253711</td>\n",
              "    </tr>\n",
              "    <tr>\n",
              "      <th>MAR</th>\n",
              "      <td>0.196461</td>\n",
              "    </tr>\n",
              "    <tr>\n",
              "      <th>MOE_N</th>\n",
              "      <td>0.142398</td>\n",
              "    </tr>\n",
              "    <tr>\n",
              "      <th>MOE</th>\n",
              "      <td>0.112398</td>\n",
              "    </tr>\n",
              "    <tr>\n",
              "      <th>Circularity</th>\n",
              "      <td>0.105215</td>\n",
              "    </tr>\n",
              "    <tr>\n",
              "      <th>EAR_N</th>\n",
              "      <td>0.072584</td>\n",
              "    </tr>\n",
              "    <tr>\n",
              "      <th>Circularity_N</th>\n",
              "      <td>0.065470</td>\n",
              "    </tr>\n",
              "    <tr>\n",
              "      <th>EAR</th>\n",
              "      <td>0.051762</td>\n",
              "    </tr>\n",
              "  </tbody>\n",
              "</table>\n",
              "</div>\n",
              "    <div class=\"colab-df-buttons\">\n",
              "\n",
              "  <div class=\"colab-df-container\">\n",
              "    <button class=\"colab-df-convert\" onclick=\"convertToInteractive('df-dfe15250-cdf1-4480-8242-404e9d05ce32')\"\n",
              "            title=\"Convert this dataframe to an interactive table.\"\n",
              "            style=\"display:none;\">\n",
              "\n",
              "  <svg xmlns=\"http://www.w3.org/2000/svg\" height=\"24px\" viewBox=\"0 -960 960 960\">\n",
              "    <path d=\"M120-120v-720h720v720H120Zm60-500h600v-160H180v160Zm220 220h160v-160H400v160Zm0 220h160v-160H400v160ZM180-400h160v-160H180v160Zm440 0h160v-160H620v160ZM180-180h160v-160H180v160Zm440 0h160v-160H620v160Z\"/>\n",
              "  </svg>\n",
              "    </button>\n",
              "\n",
              "  <style>\n",
              "    .colab-df-container {\n",
              "      display:flex;\n",
              "      gap: 12px;\n",
              "    }\n",
              "\n",
              "    .colab-df-convert {\n",
              "      background-color: #E8F0FE;\n",
              "      border: none;\n",
              "      border-radius: 50%;\n",
              "      cursor: pointer;\n",
              "      display: none;\n",
              "      fill: #1967D2;\n",
              "      height: 32px;\n",
              "      padding: 0 0 0 0;\n",
              "      width: 32px;\n",
              "    }\n",
              "\n",
              "    .colab-df-convert:hover {\n",
              "      background-color: #E2EBFA;\n",
              "      box-shadow: 0px 1px 2px rgba(60, 64, 67, 0.3), 0px 1px 3px 1px rgba(60, 64, 67, 0.15);\n",
              "      fill: #174EA6;\n",
              "    }\n",
              "\n",
              "    .colab-df-buttons div {\n",
              "      margin-bottom: 4px;\n",
              "    }\n",
              "\n",
              "    [theme=dark] .colab-df-convert {\n",
              "      background-color: #3B4455;\n",
              "      fill: #D2E3FC;\n",
              "    }\n",
              "\n",
              "    [theme=dark] .colab-df-convert:hover {\n",
              "      background-color: #434B5C;\n",
              "      box-shadow: 0px 1px 3px 1px rgba(0, 0, 0, 0.15);\n",
              "      filter: drop-shadow(0px 1px 2px rgba(0, 0, 0, 0.3));\n",
              "      fill: #FFFFFF;\n",
              "    }\n",
              "  </style>\n",
              "\n",
              "    <script>\n",
              "      const buttonEl =\n",
              "        document.querySelector('#df-dfe15250-cdf1-4480-8242-404e9d05ce32 button.colab-df-convert');\n",
              "      buttonEl.style.display =\n",
              "        google.colab.kernel.accessAllowed ? 'block' : 'none';\n",
              "\n",
              "      async function convertToInteractive(key) {\n",
              "        const element = document.querySelector('#df-dfe15250-cdf1-4480-8242-404e9d05ce32');\n",
              "        const dataTable =\n",
              "          await google.colab.kernel.invokeFunction('convertToInteractive',\n",
              "                                                    [key], {});\n",
              "        if (!dataTable) return;\n",
              "\n",
              "        const docLinkHtml = 'Like what you see? Visit the ' +\n",
              "          '<a target=\"_blank\" href=https://colab.research.google.com/notebooks/data_table.ipynb>data table notebook</a>'\n",
              "          + ' to learn more about interactive tables.';\n",
              "        element.innerHTML = '';\n",
              "        dataTable['output_type'] = 'display_data';\n",
              "        await google.colab.output.renderOutput(dataTable, element);\n",
              "        const docLink = document.createElement('div');\n",
              "        docLink.innerHTML = docLinkHtml;\n",
              "        element.appendChild(docLink);\n",
              "      }\n",
              "    </script>\n",
              "  </div>\n",
              "\n",
              "\n",
              "<div id=\"df-5193a408-cfe2-4ef7-a9ce-ae0e0f15ddab\">\n",
              "  <button class=\"colab-df-quickchart\" onclick=\"quickchart('df-5193a408-cfe2-4ef7-a9ce-ae0e0f15ddab')\"\n",
              "            title=\"Suggest charts\"\n",
              "            style=\"display:none;\">\n",
              "\n",
              "<svg xmlns=\"http://www.w3.org/2000/svg\" height=\"24px\"viewBox=\"0 0 24 24\"\n",
              "     width=\"24px\">\n",
              "    <g>\n",
              "        <path d=\"M19 3H5c-1.1 0-2 .9-2 2v14c0 1.1.9 2 2 2h14c1.1 0 2-.9 2-2V5c0-1.1-.9-2-2-2zM9 17H7v-7h2v7zm4 0h-2V7h2v10zm4 0h-2v-4h2v4z\"/>\n",
              "    </g>\n",
              "</svg>\n",
              "  </button>\n",
              "\n",
              "<style>\n",
              "  .colab-df-quickchart {\n",
              "      --bg-color: #E8F0FE;\n",
              "      --fill-color: #1967D2;\n",
              "      --hover-bg-color: #E2EBFA;\n",
              "      --hover-fill-color: #174EA6;\n",
              "      --disabled-fill-color: #AAA;\n",
              "      --disabled-bg-color: #DDD;\n",
              "  }\n",
              "\n",
              "  [theme=dark] .colab-df-quickchart {\n",
              "      --bg-color: #3B4455;\n",
              "      --fill-color: #D2E3FC;\n",
              "      --hover-bg-color: #434B5C;\n",
              "      --hover-fill-color: #FFFFFF;\n",
              "      --disabled-bg-color: #3B4455;\n",
              "      --disabled-fill-color: #666;\n",
              "  }\n",
              "\n",
              "  .colab-df-quickchart {\n",
              "    background-color: var(--bg-color);\n",
              "    border: none;\n",
              "    border-radius: 50%;\n",
              "    cursor: pointer;\n",
              "    display: none;\n",
              "    fill: var(--fill-color);\n",
              "    height: 32px;\n",
              "    padding: 0;\n",
              "    width: 32px;\n",
              "  }\n",
              "\n",
              "  .colab-df-quickchart:hover {\n",
              "    background-color: var(--hover-bg-color);\n",
              "    box-shadow: 0 1px 2px rgba(60, 64, 67, 0.3), 0 1px 3px 1px rgba(60, 64, 67, 0.15);\n",
              "    fill: var(--button-hover-fill-color);\n",
              "  }\n",
              "\n",
              "  .colab-df-quickchart-complete:disabled,\n",
              "  .colab-df-quickchart-complete:disabled:hover {\n",
              "    background-color: var(--disabled-bg-color);\n",
              "    fill: var(--disabled-fill-color);\n",
              "    box-shadow: none;\n",
              "  }\n",
              "\n",
              "  .colab-df-spinner {\n",
              "    border: 2px solid var(--fill-color);\n",
              "    border-color: transparent;\n",
              "    border-bottom-color: var(--fill-color);\n",
              "    animation:\n",
              "      spin 1s steps(1) infinite;\n",
              "  }\n",
              "\n",
              "  @keyframes spin {\n",
              "    0% {\n",
              "      border-color: transparent;\n",
              "      border-bottom-color: var(--fill-color);\n",
              "      border-left-color: var(--fill-color);\n",
              "    }\n",
              "    20% {\n",
              "      border-color: transparent;\n",
              "      border-left-color: var(--fill-color);\n",
              "      border-top-color: var(--fill-color);\n",
              "    }\n",
              "    30% {\n",
              "      border-color: transparent;\n",
              "      border-left-color: var(--fill-color);\n",
              "      border-top-color: var(--fill-color);\n",
              "      border-right-color: var(--fill-color);\n",
              "    }\n",
              "    40% {\n",
              "      border-color: transparent;\n",
              "      border-right-color: var(--fill-color);\n",
              "      border-top-color: var(--fill-color);\n",
              "    }\n",
              "    60% {\n",
              "      border-color: transparent;\n",
              "      border-right-color: var(--fill-color);\n",
              "    }\n",
              "    80% {\n",
              "      border-color: transparent;\n",
              "      border-right-color: var(--fill-color);\n",
              "      border-bottom-color: var(--fill-color);\n",
              "    }\n",
              "    90% {\n",
              "      border-color: transparent;\n",
              "      border-bottom-color: var(--fill-color);\n",
              "    }\n",
              "  }\n",
              "</style>\n",
              "\n",
              "  <script>\n",
              "    async function quickchart(key) {\n",
              "      const quickchartButtonEl =\n",
              "        document.querySelector('#' + key + ' button');\n",
              "      quickchartButtonEl.disabled = true;  // To prevent multiple clicks.\n",
              "      quickchartButtonEl.classList.add('colab-df-spinner');\n",
              "      try {\n",
              "        const charts = await google.colab.kernel.invokeFunction(\n",
              "            'suggestCharts', [key], {});\n",
              "      } catch (error) {\n",
              "        console.error('Error during call to suggestCharts:', error);\n",
              "      }\n",
              "      quickchartButtonEl.classList.remove('colab-df-spinner');\n",
              "      quickchartButtonEl.classList.add('colab-df-quickchart-complete');\n",
              "    }\n",
              "    (() => {\n",
              "      let quickchartButtonEl =\n",
              "        document.querySelector('#df-5193a408-cfe2-4ef7-a9ce-ae0e0f15ddab button');\n",
              "      quickchartButtonEl.style.display =\n",
              "        google.colab.kernel.accessAllowed ? 'block' : 'none';\n",
              "    })();\n",
              "  </script>\n",
              "</div>\n",
              "\n",
              "  <div id=\"id_f982b51e-ef6f-435e-847f-b3e1c0227608\">\n",
              "    <style>\n",
              "      .colab-df-generate {\n",
              "        background-color: #E8F0FE;\n",
              "        border: none;\n",
              "        border-radius: 50%;\n",
              "        cursor: pointer;\n",
              "        display: none;\n",
              "        fill: #1967D2;\n",
              "        height: 32px;\n",
              "        padding: 0 0 0 0;\n",
              "        width: 32px;\n",
              "      }\n",
              "\n",
              "      .colab-df-generate:hover {\n",
              "        background-color: #E2EBFA;\n",
              "        box-shadow: 0px 1px 2px rgba(60, 64, 67, 0.3), 0px 1px 3px 1px rgba(60, 64, 67, 0.15);\n",
              "        fill: #174EA6;\n",
              "      }\n",
              "\n",
              "      [theme=dark] .colab-df-generate {\n",
              "        background-color: #3B4455;\n",
              "        fill: #D2E3FC;\n",
              "      }\n",
              "\n",
              "      [theme=dark] .colab-df-generate:hover {\n",
              "        background-color: #434B5C;\n",
              "        box-shadow: 0px 1px 3px 1px rgba(0, 0, 0, 0.15);\n",
              "        filter: drop-shadow(0px 1px 2px rgba(0, 0, 0, 0.3));\n",
              "        fill: #FFFFFF;\n",
              "      }\n",
              "    </style>\n",
              "    <button class=\"colab-df-generate\" onclick=\"generateWithVariable('feature_importances')\"\n",
              "            title=\"Generate code using this dataframe.\"\n",
              "            style=\"display:none;\">\n",
              "\n",
              "  <svg xmlns=\"http://www.w3.org/2000/svg\" height=\"24px\"viewBox=\"0 0 24 24\"\n",
              "       width=\"24px\">\n",
              "    <path d=\"M7,19H8.4L18.45,9,17,7.55,7,17.6ZM5,21V16.75L18.45,3.32a2,2,0,0,1,2.83,0l1.4,1.43a1.91,1.91,0,0,1,.58,1.4,1.91,1.91,0,0,1-.58,1.4L9.25,21ZM18.45,9,17,7.55Zm-12,3A5.31,5.31,0,0,0,4.9,8.1,5.31,5.31,0,0,0,1,6.5,5.31,5.31,0,0,0,4.9,4.9,5.31,5.31,0,0,0,6.5,1,5.31,5.31,0,0,0,8.1,4.9,5.31,5.31,0,0,0,12,6.5,5.46,5.46,0,0,0,6.5,12Z\"/>\n",
              "  </svg>\n",
              "    </button>\n",
              "    <script>\n",
              "      (() => {\n",
              "      const buttonEl =\n",
              "        document.querySelector('#id_f982b51e-ef6f-435e-847f-b3e1c0227608 button.colab-df-generate');\n",
              "      buttonEl.style.display =\n",
              "        google.colab.kernel.accessAllowed ? 'block' : 'none';\n",
              "\n",
              "      buttonEl.onclick = () => {\n",
              "        google.colab.notebook.generateWithVariable('feature_importances');\n",
              "      }\n",
              "      })();\n",
              "    </script>\n",
              "  </div>\n",
              "\n",
              "    </div>\n",
              "  </div>\n"
            ],
            "application/vnd.google.colaboratory.intrinsic+json": {
              "type": "dataframe",
              "variable_name": "feature_importances",
              "summary": "{\n  \"name\": \"feature_importances\",\n  \"rows\": 8,\n  \"fields\": [\n    {\n      \"column\": \"importance\",\n      \"properties\": {\n        \"dtype\": \"number\",\n        \"std\": 0.06987874835473289,\n        \"min\": 0.051762411583962165,\n        \"max\": 0.2537112604217375,\n        \"num_unique_values\": 8,\n        \"samples\": [\n          0.1964614227779419,\n          0.0725841819179597,\n          0.2537112604217375\n        ],\n        \"semantic_type\": \"\",\n        \"description\": \"\"\n      }\n    }\n  ]\n}"
            }
          },
          "metadata": {},
          "execution_count": 27
        }
      ],
      "source": [
        "feature_importances"
      ]
    },
    {
      "cell_type": "code",
      "execution_count": 28,
      "metadata": {
        "id": "rpXIFFy1wf5p"
      },
      "outputs": [],
      "source": [
        "X_train_shaped = np.expand_dims(X_train, axis=2)"
      ]
    },
    {
      "cell_type": "code",
      "execution_count": 29,
      "metadata": {
        "colab": {
          "base_uri": "https://localhost:8080/"
        },
        "id": "lkHKjetmSY5w",
        "outputId": "fc157783-d225-4380-b156-ec6f6b9923bc"
      },
      "outputs": [
        {
          "output_type": "execute_result",
          "data": {
            "text/plain": [
              "(8160, 8, 1)"
            ]
          },
          "metadata": {},
          "execution_count": 29
        }
      ],
      "source": [
        "X_train_shaped.shape"
      ]
    },
    {
      "cell_type": "code",
      "execution_count": 30,
      "metadata": {
        "id": "_w0TtS4wxU0z"
      },
      "outputs": [],
      "source": [
        "X_test_shaped = np.expand_dims(X_test, axis=2)"
      ]
    },
    {
      "cell_type": "code",
      "execution_count": 31,
      "metadata": {
        "colab": {
          "base_uri": "https://localhost:8080/"
        },
        "id": "GD-o5xWHSbm-",
        "outputId": "50413664-5e6c-45be-85b6-34a5e250c8bf"
      },
      "outputs": [
        {
          "output_type": "execute_result",
          "data": {
            "text/plain": [
              "(2400, 8, 1)"
            ]
          },
          "metadata": {},
          "execution_count": 31
        }
      ],
      "source": [
        "X_test_shaped.shape"
      ]
    },
    {
      "cell_type": "code",
      "source": [
        "pip install keras"
      ],
      "metadata": {
        "colab": {
          "base_uri": "https://localhost:8080/"
        },
        "id": "GEmX2yxigqln",
        "outputId": "516d6db3-50d9-4a5c-afe3-b59768647572"
      },
      "execution_count": 32,
      "outputs": [
        {
          "output_type": "stream",
          "name": "stdout",
          "text": [
            "Requirement already satisfied: keras in /usr/local/lib/python3.10/dist-packages (2.15.0)\n"
          ]
        }
      ]
    },
    {
      "cell_type": "code",
      "execution_count": 33,
      "metadata": {
        "colab": {
          "base_uri": "https://localhost:8080/"
        },
        "id": "KjvYsONWwRwg",
        "outputId": "bad9569b-67f4-412a-a3b8-a89d9a6641fd"
      },
      "outputs": [
        {
          "output_type": "stream",
          "name": "stderr",
          "text": [
            "WARNING:absl:`lr` is deprecated in Keras optimizer, please use `learning_rate` or use the legacy optimizer, e.g.,tf.keras.optimizers.legacy.Adam.\n"
          ]
        },
        {
          "output_type": "stream",
          "name": "stdout",
          "text": [
            "Epoch 1/100\n",
            "255/255 [==============================] - 10s 11ms/step - loss: 0.5789 - accuracy: 0.6964 - val_loss: 0.7508 - val_accuracy: 0.6083\n",
            "Epoch 2/100\n",
            "255/255 [==============================] - 3s 10ms/step - loss: 0.4842 - accuracy: 0.7653 - val_loss: 0.6425 - val_accuracy: 0.6450\n",
            "Epoch 3/100\n",
            "255/255 [==============================] - 2s 7ms/step - loss: 0.4384 - accuracy: 0.7939 - val_loss: 0.5978 - val_accuracy: 0.6017\n",
            "Epoch 4/100\n",
            "255/255 [==============================] - 2s 7ms/step - loss: 0.4108 - accuracy: 0.8105 - val_loss: 0.6256 - val_accuracy: 0.6658\n",
            "Epoch 5/100\n",
            "255/255 [==============================] - 2s 7ms/step - loss: 0.4014 - accuracy: 0.8125 - val_loss: 0.6167 - val_accuracy: 0.6425\n",
            "Epoch 6/100\n",
            "255/255 [==============================] - 2s 7ms/step - loss: 0.3872 - accuracy: 0.8189 - val_loss: 0.6525 - val_accuracy: 0.6758\n",
            "Epoch 7/100\n",
            "255/255 [==============================] - 2s 6ms/step - loss: 0.3837 - accuracy: 0.8205 - val_loss: 0.5948 - val_accuracy: 0.6783\n",
            "Epoch 8/100\n",
            "255/255 [==============================] - 2s 7ms/step - loss: 0.3796 - accuracy: 0.8202 - val_loss: 0.5893 - val_accuracy: 0.6725\n",
            "Epoch 9/100\n",
            "255/255 [==============================] - 2s 9ms/step - loss: 0.3744 - accuracy: 0.8252 - val_loss: 0.5838 - val_accuracy: 0.6767\n",
            "Epoch 10/100\n",
            "255/255 [==============================] - 2s 8ms/step - loss: 0.3721 - accuracy: 0.8241 - val_loss: 0.5475 - val_accuracy: 0.6842\n",
            "Epoch 11/100\n",
            "255/255 [==============================] - 2s 6ms/step - loss: 0.3664 - accuracy: 0.8265 - val_loss: 0.5904 - val_accuracy: 0.6708\n",
            "Epoch 12/100\n",
            "255/255 [==============================] - 2s 6ms/step - loss: 0.3641 - accuracy: 0.8304 - val_loss: 0.5795 - val_accuracy: 0.6708\n",
            "Epoch 13/100\n",
            "255/255 [==============================] - 2s 7ms/step - loss: 0.3603 - accuracy: 0.8325 - val_loss: 0.5952 - val_accuracy: 0.6742\n",
            "Epoch 14/100\n",
            "255/255 [==============================] - 2s 7ms/step - loss: 0.3640 - accuracy: 0.8281 - val_loss: 0.5997 - val_accuracy: 0.6933\n",
            "Epoch 15/100\n",
            "255/255 [==============================] - 2s 8ms/step - loss: 0.3520 - accuracy: 0.8373 - val_loss: 0.5908 - val_accuracy: 0.6950\n",
            "Epoch 16/100\n",
            "255/255 [==============================] - 2s 8ms/step - loss: 0.3500 - accuracy: 0.8365 - val_loss: 0.5798 - val_accuracy: 0.6817\n",
            "Epoch 17/100\n",
            "255/255 [==============================] - 2s 10ms/step - loss: 0.3516 - accuracy: 0.8347 - val_loss: 0.6403 - val_accuracy: 0.6825\n",
            "Epoch 18/100\n",
            "255/255 [==============================] - 1s 4ms/step - loss: 0.3472 - accuracy: 0.8403 - val_loss: 0.5902 - val_accuracy: 0.6842\n",
            "Epoch 19/100\n",
            "255/255 [==============================] - 1s 4ms/step - loss: 0.3428 - accuracy: 0.8397 - val_loss: 0.6284 - val_accuracy: 0.6825\n",
            "Epoch 20/100\n",
            "255/255 [==============================] - 1s 4ms/step - loss: 0.3422 - accuracy: 0.8444 - val_loss: 0.5586 - val_accuracy: 0.6833\n",
            "Epoch 21/100\n",
            "255/255 [==============================] - 1s 4ms/step - loss: 0.3388 - accuracy: 0.8391 - val_loss: 0.6257 - val_accuracy: 0.6775\n",
            "Epoch 22/100\n",
            "255/255 [==============================] - 1s 4ms/step - loss: 0.3414 - accuracy: 0.8408 - val_loss: 0.5820 - val_accuracy: 0.7000\n",
            "Epoch 23/100\n",
            "255/255 [==============================] - 1s 4ms/step - loss: 0.3412 - accuracy: 0.8370 - val_loss: 0.6686 - val_accuracy: 0.6925\n",
            "Epoch 24/100\n",
            "255/255 [==============================] - 1s 4ms/step - loss: 0.3344 - accuracy: 0.8435 - val_loss: 0.6473 - val_accuracy: 0.6925\n",
            "Epoch 25/100\n",
            "255/255 [==============================] - 1s 4ms/step - loss: 0.3365 - accuracy: 0.8414 - val_loss: 0.5953 - val_accuracy: 0.7000\n",
            "Epoch 26/100\n",
            "255/255 [==============================] - 1s 4ms/step - loss: 0.3341 - accuracy: 0.8403 - val_loss: 0.6321 - val_accuracy: 0.6908\n",
            "Epoch 27/100\n",
            "255/255 [==============================] - 1s 4ms/step - loss: 0.3348 - accuracy: 0.8423 - val_loss: 0.7670 - val_accuracy: 0.6825\n",
            "Epoch 28/100\n",
            "255/255 [==============================] - 1s 5ms/step - loss: 0.3281 - accuracy: 0.8436 - val_loss: 0.5764 - val_accuracy: 0.7067\n",
            "Epoch 29/100\n",
            "255/255 [==============================] - 1s 6ms/step - loss: 0.3274 - accuracy: 0.8435 - val_loss: 0.6135 - val_accuracy: 0.7075\n",
            "Epoch 30/100\n",
            "255/255 [==============================] - 1s 4ms/step - loss: 0.3240 - accuracy: 0.8485 - val_loss: 0.6153 - val_accuracy: 0.6875\n",
            "Epoch 31/100\n",
            "255/255 [==============================] - 1s 4ms/step - loss: 0.3232 - accuracy: 0.8460 - val_loss: 0.6377 - val_accuracy: 0.6692\n",
            "Epoch 32/100\n",
            "255/255 [==============================] - 1s 4ms/step - loss: 0.3246 - accuracy: 0.8455 - val_loss: 0.7569 - val_accuracy: 0.6883\n",
            "Epoch 33/100\n",
            "255/255 [==============================] - 1s 4ms/step - loss: 0.3192 - accuracy: 0.8474 - val_loss: 0.6977 - val_accuracy: 0.6833\n",
            "Epoch 34/100\n",
            "255/255 [==============================] - 1s 4ms/step - loss: 0.3226 - accuracy: 0.8484 - val_loss: 0.7480 - val_accuracy: 0.6883\n",
            "Epoch 35/100\n",
            "255/255 [==============================] - 1s 4ms/step - loss: 0.3220 - accuracy: 0.8458 - val_loss: 0.5927 - val_accuracy: 0.6767\n",
            "Epoch 36/100\n",
            "255/255 [==============================] - 1s 4ms/step - loss: 0.3146 - accuracy: 0.8462 - val_loss: 0.7127 - val_accuracy: 0.6967\n",
            "Epoch 37/100\n",
            "255/255 [==============================] - 1s 4ms/step - loss: 0.3180 - accuracy: 0.8468 - val_loss: 0.6412 - val_accuracy: 0.6925\n",
            "Epoch 38/100\n",
            "255/255 [==============================] - 1s 4ms/step - loss: 0.3133 - accuracy: 0.8502 - val_loss: 0.6353 - val_accuracy: 0.6933\n",
            "Epoch 39/100\n",
            "255/255 [==============================] - 1s 4ms/step - loss: 0.3124 - accuracy: 0.8529 - val_loss: 0.7259 - val_accuracy: 0.6800\n",
            "Epoch 40/100\n",
            "255/255 [==============================] - 1s 4ms/step - loss: 0.3117 - accuracy: 0.8457 - val_loss: 0.6867 - val_accuracy: 0.6825\n",
            "Epoch 41/100\n",
            "255/255 [==============================] - 1s 6ms/step - loss: 0.3157 - accuracy: 0.8506 - val_loss: 0.6908 - val_accuracy: 0.6950\n",
            "Epoch 42/100\n",
            "255/255 [==============================] - 1s 5ms/step - loss: 0.3097 - accuracy: 0.8536 - val_loss: 0.7037 - val_accuracy: 0.6992\n",
            "Epoch 43/100\n",
            "255/255 [==============================] - 1s 4ms/step - loss: 0.3087 - accuracy: 0.8534 - val_loss: 0.7813 - val_accuracy: 0.6925\n",
            "Epoch 44/100\n",
            "255/255 [==============================] - 1s 4ms/step - loss: 0.3059 - accuracy: 0.8472 - val_loss: 0.7243 - val_accuracy: 0.6900\n",
            "Epoch 45/100\n",
            "255/255 [==============================] - 1s 4ms/step - loss: 0.3142 - accuracy: 0.8531 - val_loss: 0.7124 - val_accuracy: 0.6883\n",
            "Epoch 46/100\n",
            "255/255 [==============================] - 1s 4ms/step - loss: 0.3078 - accuracy: 0.8545 - val_loss: 0.7998 - val_accuracy: 0.6808\n",
            "Epoch 47/100\n",
            "255/255 [==============================] - 1s 4ms/step - loss: 0.3071 - accuracy: 0.8538 - val_loss: 0.7318 - val_accuracy: 0.6950\n",
            "Epoch 48/100\n",
            "255/255 [==============================] - 1s 4ms/step - loss: 0.3095 - accuracy: 0.8515 - val_loss: 0.7753 - val_accuracy: 0.6725\n",
            "Epoch 49/100\n",
            "255/255 [==============================] - 1s 4ms/step - loss: 0.3078 - accuracy: 0.8502 - val_loss: 0.7464 - val_accuracy: 0.6933\n",
            "Epoch 50/100\n",
            "255/255 [==============================] - 1s 4ms/step - loss: 0.3036 - accuracy: 0.8525 - val_loss: 0.8385 - val_accuracy: 0.6825\n",
            "Epoch 51/100\n",
            "255/255 [==============================] - 1s 4ms/step - loss: 0.3038 - accuracy: 0.8526 - val_loss: 0.8113 - val_accuracy: 0.6842\n",
            "Epoch 52/100\n",
            "255/255 [==============================] - 1s 4ms/step - loss: 0.3005 - accuracy: 0.8534 - val_loss: 0.7010 - val_accuracy: 0.6967\n",
            "Epoch 53/100\n",
            "255/255 [==============================] - 1s 5ms/step - loss: 0.2994 - accuracy: 0.8537 - val_loss: 0.8809 - val_accuracy: 0.6808\n",
            "Epoch 54/100\n",
            "255/255 [==============================] - 1s 6ms/step - loss: 0.3024 - accuracy: 0.8544 - val_loss: 0.8316 - val_accuracy: 0.6808\n",
            "Epoch 55/100\n",
            "255/255 [==============================] - 1s 5ms/step - loss: 0.2994 - accuracy: 0.8571 - val_loss: 0.7515 - val_accuracy: 0.6933\n",
            "Epoch 56/100\n",
            "255/255 [==============================] - 1s 4ms/step - loss: 0.3004 - accuracy: 0.8533 - val_loss: 0.7566 - val_accuracy: 0.6983\n",
            "Epoch 57/100\n",
            "255/255 [==============================] - 1s 4ms/step - loss: 0.2983 - accuracy: 0.8554 - val_loss: 0.8984 - val_accuracy: 0.7058\n",
            "Epoch 58/100\n",
            "255/255 [==============================] - 1s 4ms/step - loss: 0.3028 - accuracy: 0.8526 - val_loss: 0.8547 - val_accuracy: 0.6917\n",
            "Epoch 59/100\n",
            "255/255 [==============================] - 1s 4ms/step - loss: 0.2954 - accuracy: 0.8549 - val_loss: 0.8956 - val_accuracy: 0.6900\n",
            "Epoch 60/100\n",
            "255/255 [==============================] - 1s 4ms/step - loss: 0.2972 - accuracy: 0.8554 - val_loss: 0.7920 - val_accuracy: 0.7017\n",
            "Epoch 61/100\n",
            "255/255 [==============================] - 1s 4ms/step - loss: 0.2978 - accuracy: 0.8520 - val_loss: 0.9737 - val_accuracy: 0.7008\n",
            "Epoch 62/100\n",
            "255/255 [==============================] - 1s 4ms/step - loss: 0.2921 - accuracy: 0.8567 - val_loss: 0.8898 - val_accuracy: 0.6950\n",
            "Epoch 63/100\n",
            "255/255 [==============================] - 1s 4ms/step - loss: 0.2985 - accuracy: 0.8562 - val_loss: 0.9594 - val_accuracy: 0.6967\n",
            "Epoch 64/100\n",
            "255/255 [==============================] - 1s 4ms/step - loss: 0.2934 - accuracy: 0.8542 - val_loss: 1.1751 - val_accuracy: 0.6908\n",
            "Epoch 65/100\n",
            "255/255 [==============================] - 1s 4ms/step - loss: 0.2934 - accuracy: 0.8554 - val_loss: 0.8515 - val_accuracy: 0.7067\n",
            "Epoch 66/100\n",
            "255/255 [==============================] - 1s 5ms/step - loss: 0.2936 - accuracy: 0.8566 - val_loss: 0.8834 - val_accuracy: 0.6900\n",
            "Epoch 67/100\n",
            "255/255 [==============================] - 1s 5ms/step - loss: 0.2929 - accuracy: 0.8575 - val_loss: 1.0490 - val_accuracy: 0.7033\n",
            "Epoch 68/100\n",
            "255/255 [==============================] - 1s 4ms/step - loss: 0.2886 - accuracy: 0.8604 - val_loss: 0.8473 - val_accuracy: 0.6967\n",
            "Epoch 69/100\n",
            "255/255 [==============================] - 1s 4ms/step - loss: 0.2951 - accuracy: 0.8574 - val_loss: 0.9117 - val_accuracy: 0.6875\n",
            "Epoch 70/100\n",
            "255/255 [==============================] - 1s 4ms/step - loss: 0.2928 - accuracy: 0.8569 - val_loss: 0.9251 - val_accuracy: 0.6950\n",
            "Epoch 71/100\n",
            "255/255 [==============================] - 1s 4ms/step - loss: 0.2980 - accuracy: 0.8569 - val_loss: 1.2112 - val_accuracy: 0.6892\n",
            "Epoch 72/100\n",
            "255/255 [==============================] - 1s 4ms/step - loss: 0.2886 - accuracy: 0.8570 - val_loss: 0.8693 - val_accuracy: 0.7033\n",
            "Epoch 73/100\n",
            "255/255 [==============================] - 1s 4ms/step - loss: 0.2848 - accuracy: 0.8581 - val_loss: 1.0832 - val_accuracy: 0.7000\n",
            "Epoch 74/100\n",
            "255/255 [==============================] - 1s 4ms/step - loss: 0.2870 - accuracy: 0.8576 - val_loss: 1.0331 - val_accuracy: 0.6842\n",
            "Epoch 75/100\n",
            "255/255 [==============================] - 1s 4ms/step - loss: 0.2878 - accuracy: 0.8585 - val_loss: 1.2028 - val_accuracy: 0.7008\n",
            "Epoch 76/100\n",
            "255/255 [==============================] - 1s 4ms/step - loss: 0.2919 - accuracy: 0.8571 - val_loss: 1.0346 - val_accuracy: 0.6767\n",
            "Epoch 77/100\n",
            "255/255 [==============================] - 1s 4ms/step - loss: 0.2890 - accuracy: 0.8548 - val_loss: 0.9953 - val_accuracy: 0.7008\n",
            "Epoch 78/100\n",
            "255/255 [==============================] - 1s 4ms/step - loss: 0.2904 - accuracy: 0.8577 - val_loss: 0.9090 - val_accuracy: 0.6983\n",
            "Epoch 79/100\n",
            "255/255 [==============================] - 1s 5ms/step - loss: 0.2866 - accuracy: 0.8624 - val_loss: 1.0490 - val_accuracy: 0.7075\n",
            "Epoch 80/100\n",
            "255/255 [==============================] - 1s 6ms/step - loss: 0.2869 - accuracy: 0.8598 - val_loss: 1.0912 - val_accuracy: 0.6933\n",
            "Epoch 81/100\n",
            "255/255 [==============================] - 1s 5ms/step - loss: 0.2888 - accuracy: 0.8577 - val_loss: 1.1163 - val_accuracy: 0.6942\n",
            "Epoch 82/100\n",
            "255/255 [==============================] - 1s 4ms/step - loss: 0.2813 - accuracy: 0.8586 - val_loss: 1.3428 - val_accuracy: 0.6892\n",
            "Epoch 83/100\n",
            "255/255 [==============================] - 1s 4ms/step - loss: 0.2802 - accuracy: 0.8603 - val_loss: 1.1397 - val_accuracy: 0.6975\n",
            "Epoch 84/100\n",
            "255/255 [==============================] - 1s 4ms/step - loss: 0.2812 - accuracy: 0.8598 - val_loss: 1.2903 - val_accuracy: 0.6850\n",
            "Epoch 85/100\n",
            "255/255 [==============================] - 1s 4ms/step - loss: 0.2871 - accuracy: 0.8583 - val_loss: 1.1533 - val_accuracy: 0.6775\n",
            "Epoch 86/100\n",
            "255/255 [==============================] - 1s 4ms/step - loss: 0.2787 - accuracy: 0.8631 - val_loss: 1.2064 - val_accuracy: 0.6983\n",
            "Epoch 87/100\n",
            "255/255 [==============================] - 1s 4ms/step - loss: 0.2827 - accuracy: 0.8631 - val_loss: 1.2826 - val_accuracy: 0.7108\n",
            "Epoch 88/100\n",
            "255/255 [==============================] - 1s 4ms/step - loss: 0.2855 - accuracy: 0.8585 - val_loss: 1.1130 - val_accuracy: 0.6967\n",
            "Epoch 89/100\n",
            "255/255 [==============================] - 1s 4ms/step - loss: 0.2849 - accuracy: 0.8594 - val_loss: 1.4127 - val_accuracy: 0.6950\n",
            "Epoch 90/100\n",
            "255/255 [==============================] - 1s 4ms/step - loss: 0.2776 - accuracy: 0.8588 - val_loss: 1.3810 - val_accuracy: 0.7025\n",
            "Epoch 91/100\n",
            "255/255 [==============================] - 1s 4ms/step - loss: 0.2820 - accuracy: 0.8599 - val_loss: 1.5693 - val_accuracy: 0.6908\n",
            "Epoch 92/100\n",
            "255/255 [==============================] - 1s 5ms/step - loss: 0.2819 - accuracy: 0.8569 - val_loss: 1.4811 - val_accuracy: 0.7000\n",
            "Epoch 93/100\n",
            "255/255 [==============================] - 1s 5ms/step - loss: 0.2809 - accuracy: 0.8648 - val_loss: 1.4387 - val_accuracy: 0.6800\n",
            "Epoch 94/100\n",
            "255/255 [==============================] - 1s 5ms/step - loss: 0.2780 - accuracy: 0.8627 - val_loss: 1.4278 - val_accuracy: 0.7125\n",
            "Epoch 95/100\n",
            "255/255 [==============================] - 1s 4ms/step - loss: 0.2754 - accuracy: 0.8629 - val_loss: 1.6506 - val_accuracy: 0.6917\n",
            "Epoch 96/100\n",
            "255/255 [==============================] - 1s 4ms/step - loss: 0.2778 - accuracy: 0.8608 - val_loss: 1.4697 - val_accuracy: 0.6942\n",
            "Epoch 97/100\n",
            "255/255 [==============================] - 1s 4ms/step - loss: 0.2828 - accuracy: 0.8614 - val_loss: 1.1214 - val_accuracy: 0.6917\n",
            "Epoch 98/100\n",
            "255/255 [==============================] - 1s 4ms/step - loss: 0.2836 - accuracy: 0.8604 - val_loss: 1.4247 - val_accuracy: 0.6908\n",
            "Epoch 99/100\n",
            "255/255 [==============================] - 1s 4ms/step - loss: 0.2753 - accuracy: 0.8620 - val_loss: 1.4731 - val_accuracy: 0.6942\n",
            "Epoch 100/100\n",
            "255/255 [==============================] - 1s 4ms/step - loss: 0.2801 - accuracy: 0.8599 - val_loss: 1.4017 - val_accuracy: 0.6967\n"
          ]
        },
        {
          "output_type": "execute_result",
          "data": {
            "text/plain": [
              "<keras.src.callbacks.History at 0x7c5e7eb47730>"
            ]
          },
          "metadata": {},
          "execution_count": 33
        }
      ],
      "source": [
        "from keras.models import Sequential\n",
        "from keras.layers import Dense, Flatten\n",
        "from keras.layers import Conv1D\n",
        "from keras.optimizers import Adam, RMSprop\n",
        "from keras.layers import Dropout\n",
        "## Create Model ##\n",
        "\n",
        "model = Sequential()\n",
        "\n",
        "model.add(Conv1D(64, kernel_size = 3, activation = 'relu', input_shape = (8,1)))\n",
        "model.add(Flatten())\n",
        "model.add(Dense(32, activation='relu'))\n",
        "model.add(Dense(16, activation = 'relu'))\n",
        "model.add(Dropout(0.2))\n",
        "model.add(Dense(1,activation = 'sigmoid'))\n",
        "\n",
        "\n",
        "## Compile Model ##\n",
        "optimizer = Adam(lr=0.00001)\n",
        "model.compile(loss='binary_crossentropy', optimizer=optimizer, metrics=['accuracy'])\n",
        "\n",
        "## Train Model and Check Validation Accuracy ##\n",
        "model.fit(X_train_shaped, y_train, validation_data = (X_test_shaped,y_test), epochs = 100)"
      ]
    },
    {
      "cell_type": "code",
      "execution_count": 34,
      "metadata": {
        "colab": {
          "base_uri": "https://localhost:8080/"
        },
        "id": "RzGUumAdfzfW",
        "outputId": "b190bb54-1215-410d-8228-a7f7b22e1720"
      },
      "outputs": [
        {
          "output_type": "stream",
          "name": "stdout",
          "text": [
            "Model: \"sequential\"\n",
            "_________________________________________________________________\n",
            " Layer (type)                Output Shape              Param #   \n",
            "=================================================================\n",
            " conv1d (Conv1D)             (None, 6, 64)             256       \n",
            "                                                                 \n",
            " flatten (Flatten)           (None, 384)               0         \n",
            "                                                                 \n",
            " dense (Dense)               (None, 32)                12320     \n",
            "                                                                 \n",
            " dense_1 (Dense)             (None, 16)                528       \n",
            "                                                                 \n",
            " dropout (Dropout)           (None, 16)                0         \n",
            "                                                                 \n",
            " dense_2 (Dense)             (None, 1)                 17        \n",
            "                                                                 \n",
            "=================================================================\n",
            "Total params: 13121 (51.25 KB)\n",
            "Trainable params: 13121 (51.25 KB)\n",
            "Non-trainable params: 0 (0.00 Byte)\n",
            "_________________________________________________________________\n"
          ]
        }
      ],
      "source": [
        "model.summary()"
      ]
    },
    {
      "cell_type": "code",
      "execution_count": 35,
      "metadata": {
        "colab": {
          "base_uri": "https://localhost:8080/"
        },
        "id": "RywX2STyx_Ie",
        "outputId": "e85f9f84-e760-43d0-e1e2-0064e4ce6752"
      },
      "outputs": [
        {
          "output_type": "stream",
          "name": "stdout",
          "text": [
            "75/75 [==============================] - 0s 2ms/step\n",
            "75/75 [==============================] - 0s 2ms/step\n",
            "[0.5, 0.0, 0.7443777777777779]\n",
            "[[1200    0]\n",
            " [1200    0]]\n"
          ]
        }
      ],
      "source": [
        "pred_cnn = model.predict(X_test_shaped)\n",
        "pred_cnn = np.argmax(pred_cnn, axis=-1)\n",
        "y_score_7 = model.predict(X_test_shaped)\n",
        "\n",
        "acc7 = accuracy_score(y_test, np.array(pred_cnn))\n",
        "f1_score_7 = metrics.f1_score(y_test, pred_cnn)\n",
        "roc_7 = metrics.roc_auc_score(y_test, y_score_7)\n",
        "print([acc7,f1_score_7,roc_7])\n",
        "print(confusion_matrix(y_test, pred_cnn))"
      ]
    },
    {
      "cell_type": "code",
      "execution_count": 36,
      "metadata": {
        "colab": {
          "base_uri": "https://localhost:8080/",
          "height": 834
        },
        "id": "EaB67cSUk685",
        "outputId": "258a9b5d-4dab-41d5-df96-16f7ffe06405"
      },
      "outputs": [
        {
          "output_type": "execute_result",
          "data": {
            "text/plain": [
              "                     Accuracy\n",
              "Model                        \n",
              "Logistic Regression  0.723333\n",
              "Naive Bayes          0.627500\n",
              "KNN                  0.717500\n",
              "MLP                  0.710000\n",
              "Decision Tree        0.719167\n",
              "Random Forest        0.678333\n",
              "CNN                  0.500000\n",
              "XGB Boosting         0.720833"
            ],
            "text/html": [
              "\n",
              "  <div id=\"df-efaf870e-fac3-4718-8a9d-73fb7347fd60\" class=\"colab-df-container\">\n",
              "    <div>\n",
              "<style scoped>\n",
              "    .dataframe tbody tr th:only-of-type {\n",
              "        vertical-align: middle;\n",
              "    }\n",
              "\n",
              "    .dataframe tbody tr th {\n",
              "        vertical-align: top;\n",
              "    }\n",
              "\n",
              "    .dataframe thead th {\n",
              "        text-align: right;\n",
              "    }\n",
              "</style>\n",
              "<table border=\"1\" class=\"dataframe\">\n",
              "  <thead>\n",
              "    <tr style=\"text-align: right;\">\n",
              "      <th></th>\n",
              "      <th>Accuracy</th>\n",
              "    </tr>\n",
              "    <tr>\n",
              "      <th>Model</th>\n",
              "      <th></th>\n",
              "    </tr>\n",
              "  </thead>\n",
              "  <tbody>\n",
              "    <tr>\n",
              "      <th>Logistic Regression</th>\n",
              "      <td>0.723333</td>\n",
              "    </tr>\n",
              "    <tr>\n",
              "      <th>Naive Bayes</th>\n",
              "      <td>0.627500</td>\n",
              "    </tr>\n",
              "    <tr>\n",
              "      <th>KNN</th>\n",
              "      <td>0.717500</td>\n",
              "    </tr>\n",
              "    <tr>\n",
              "      <th>MLP</th>\n",
              "      <td>0.710000</td>\n",
              "    </tr>\n",
              "    <tr>\n",
              "      <th>Decision Tree</th>\n",
              "      <td>0.719167</td>\n",
              "    </tr>\n",
              "    <tr>\n",
              "      <th>Random Forest</th>\n",
              "      <td>0.678333</td>\n",
              "    </tr>\n",
              "    <tr>\n",
              "      <th>CNN</th>\n",
              "      <td>0.500000</td>\n",
              "    </tr>\n",
              "    <tr>\n",
              "      <th>XGB Boosting</th>\n",
              "      <td>0.720833</td>\n",
              "    </tr>\n",
              "  </tbody>\n",
              "</table>\n",
              "</div>\n",
              "    <div class=\"colab-df-buttons\">\n",
              "\n",
              "  <div class=\"colab-df-container\">\n",
              "    <button class=\"colab-df-convert\" onclick=\"convertToInteractive('df-efaf870e-fac3-4718-8a9d-73fb7347fd60')\"\n",
              "            title=\"Convert this dataframe to an interactive table.\"\n",
              "            style=\"display:none;\">\n",
              "\n",
              "  <svg xmlns=\"http://www.w3.org/2000/svg\" height=\"24px\" viewBox=\"0 -960 960 960\">\n",
              "    <path d=\"M120-120v-720h720v720H120Zm60-500h600v-160H180v160Zm220 220h160v-160H400v160Zm0 220h160v-160H400v160ZM180-400h160v-160H180v160Zm440 0h160v-160H620v160ZM180-180h160v-160H180v160Zm440 0h160v-160H620v160Z\"/>\n",
              "  </svg>\n",
              "    </button>\n",
              "\n",
              "  <style>\n",
              "    .colab-df-container {\n",
              "      display:flex;\n",
              "      gap: 12px;\n",
              "    }\n",
              "\n",
              "    .colab-df-convert {\n",
              "      background-color: #E8F0FE;\n",
              "      border: none;\n",
              "      border-radius: 50%;\n",
              "      cursor: pointer;\n",
              "      display: none;\n",
              "      fill: #1967D2;\n",
              "      height: 32px;\n",
              "      padding: 0 0 0 0;\n",
              "      width: 32px;\n",
              "    }\n",
              "\n",
              "    .colab-df-convert:hover {\n",
              "      background-color: #E2EBFA;\n",
              "      box-shadow: 0px 1px 2px rgba(60, 64, 67, 0.3), 0px 1px 3px 1px rgba(60, 64, 67, 0.15);\n",
              "      fill: #174EA6;\n",
              "    }\n",
              "\n",
              "    .colab-df-buttons div {\n",
              "      margin-bottom: 4px;\n",
              "    }\n",
              "\n",
              "    [theme=dark] .colab-df-convert {\n",
              "      background-color: #3B4455;\n",
              "      fill: #D2E3FC;\n",
              "    }\n",
              "\n",
              "    [theme=dark] .colab-df-convert:hover {\n",
              "      background-color: #434B5C;\n",
              "      box-shadow: 0px 1px 3px 1px rgba(0, 0, 0, 0.15);\n",
              "      filter: drop-shadow(0px 1px 2px rgba(0, 0, 0, 0.3));\n",
              "      fill: #FFFFFF;\n",
              "    }\n",
              "  </style>\n",
              "\n",
              "    <script>\n",
              "      const buttonEl =\n",
              "        document.querySelector('#df-efaf870e-fac3-4718-8a9d-73fb7347fd60 button.colab-df-convert');\n",
              "      buttonEl.style.display =\n",
              "        google.colab.kernel.accessAllowed ? 'block' : 'none';\n",
              "\n",
              "      async function convertToInteractive(key) {\n",
              "        const element = document.querySelector('#df-efaf870e-fac3-4718-8a9d-73fb7347fd60');\n",
              "        const dataTable =\n",
              "          await google.colab.kernel.invokeFunction('convertToInteractive',\n",
              "                                                    [key], {});\n",
              "        if (!dataTable) return;\n",
              "\n",
              "        const docLinkHtml = 'Like what you see? Visit the ' +\n",
              "          '<a target=\"_blank\" href=https://colab.research.google.com/notebooks/data_table.ipynb>data table notebook</a>'\n",
              "          + ' to learn more about interactive tables.';\n",
              "        element.innerHTML = '';\n",
              "        dataTable['output_type'] = 'display_data';\n",
              "        await google.colab.output.renderOutput(dataTable, element);\n",
              "        const docLink = document.createElement('div');\n",
              "        docLink.innerHTML = docLinkHtml;\n",
              "        element.appendChild(docLink);\n",
              "      }\n",
              "    </script>\n",
              "  </div>\n",
              "\n",
              "\n",
              "<div id=\"df-87b07576-6bf4-400c-a050-79f869ceb0e8\">\n",
              "  <button class=\"colab-df-quickchart\" onclick=\"quickchart('df-87b07576-6bf4-400c-a050-79f869ceb0e8')\"\n",
              "            title=\"Suggest charts\"\n",
              "            style=\"display:none;\">\n",
              "\n",
              "<svg xmlns=\"http://www.w3.org/2000/svg\" height=\"24px\"viewBox=\"0 0 24 24\"\n",
              "     width=\"24px\">\n",
              "    <g>\n",
              "        <path d=\"M19 3H5c-1.1 0-2 .9-2 2v14c0 1.1.9 2 2 2h14c1.1 0 2-.9 2-2V5c0-1.1-.9-2-2-2zM9 17H7v-7h2v7zm4 0h-2V7h2v10zm4 0h-2v-4h2v4z\"/>\n",
              "    </g>\n",
              "</svg>\n",
              "  </button>\n",
              "\n",
              "<style>\n",
              "  .colab-df-quickchart {\n",
              "      --bg-color: #E8F0FE;\n",
              "      --fill-color: #1967D2;\n",
              "      --hover-bg-color: #E2EBFA;\n",
              "      --hover-fill-color: #174EA6;\n",
              "      --disabled-fill-color: #AAA;\n",
              "      --disabled-bg-color: #DDD;\n",
              "  }\n",
              "\n",
              "  [theme=dark] .colab-df-quickchart {\n",
              "      --bg-color: #3B4455;\n",
              "      --fill-color: #D2E3FC;\n",
              "      --hover-bg-color: #434B5C;\n",
              "      --hover-fill-color: #FFFFFF;\n",
              "      --disabled-bg-color: #3B4455;\n",
              "      --disabled-fill-color: #666;\n",
              "  }\n",
              "\n",
              "  .colab-df-quickchart {\n",
              "    background-color: var(--bg-color);\n",
              "    border: none;\n",
              "    border-radius: 50%;\n",
              "    cursor: pointer;\n",
              "    display: none;\n",
              "    fill: var(--fill-color);\n",
              "    height: 32px;\n",
              "    padding: 0;\n",
              "    width: 32px;\n",
              "  }\n",
              "\n",
              "  .colab-df-quickchart:hover {\n",
              "    background-color: var(--hover-bg-color);\n",
              "    box-shadow: 0 1px 2px rgba(60, 64, 67, 0.3), 0 1px 3px 1px rgba(60, 64, 67, 0.15);\n",
              "    fill: var(--button-hover-fill-color);\n",
              "  }\n",
              "\n",
              "  .colab-df-quickchart-complete:disabled,\n",
              "  .colab-df-quickchart-complete:disabled:hover {\n",
              "    background-color: var(--disabled-bg-color);\n",
              "    fill: var(--disabled-fill-color);\n",
              "    box-shadow: none;\n",
              "  }\n",
              "\n",
              "  .colab-df-spinner {\n",
              "    border: 2px solid var(--fill-color);\n",
              "    border-color: transparent;\n",
              "    border-bottom-color: var(--fill-color);\n",
              "    animation:\n",
              "      spin 1s steps(1) infinite;\n",
              "  }\n",
              "\n",
              "  @keyframes spin {\n",
              "    0% {\n",
              "      border-color: transparent;\n",
              "      border-bottom-color: var(--fill-color);\n",
              "      border-left-color: var(--fill-color);\n",
              "    }\n",
              "    20% {\n",
              "      border-color: transparent;\n",
              "      border-left-color: var(--fill-color);\n",
              "      border-top-color: var(--fill-color);\n",
              "    }\n",
              "    30% {\n",
              "      border-color: transparent;\n",
              "      border-left-color: var(--fill-color);\n",
              "      border-top-color: var(--fill-color);\n",
              "      border-right-color: var(--fill-color);\n",
              "    }\n",
              "    40% {\n",
              "      border-color: transparent;\n",
              "      border-right-color: var(--fill-color);\n",
              "      border-top-color: var(--fill-color);\n",
              "    }\n",
              "    60% {\n",
              "      border-color: transparent;\n",
              "      border-right-color: var(--fill-color);\n",
              "    }\n",
              "    80% {\n",
              "      border-color: transparent;\n",
              "      border-right-color: var(--fill-color);\n",
              "      border-bottom-color: var(--fill-color);\n",
              "    }\n",
              "    90% {\n",
              "      border-color: transparent;\n",
              "      border-bottom-color: var(--fill-color);\n",
              "    }\n",
              "  }\n",
              "</style>\n",
              "\n",
              "  <script>\n",
              "    async function quickchart(key) {\n",
              "      const quickchartButtonEl =\n",
              "        document.querySelector('#' + key + ' button');\n",
              "      quickchartButtonEl.disabled = true;  // To prevent multiple clicks.\n",
              "      quickchartButtonEl.classList.add('colab-df-spinner');\n",
              "      try {\n",
              "        const charts = await google.colab.kernel.invokeFunction(\n",
              "            'suggestCharts', [key], {});\n",
              "      } catch (error) {\n",
              "        console.error('Error during call to suggestCharts:', error);\n",
              "      }\n",
              "      quickchartButtonEl.classList.remove('colab-df-spinner');\n",
              "      quickchartButtonEl.classList.add('colab-df-quickchart-complete');\n",
              "    }\n",
              "    (() => {\n",
              "      let quickchartButtonEl =\n",
              "        document.querySelector('#df-87b07576-6bf4-400c-a050-79f869ceb0e8 button');\n",
              "      quickchartButtonEl.style.display =\n",
              "        google.colab.kernel.accessAllowed ? 'block' : 'none';\n",
              "    })();\n",
              "  </script>\n",
              "</div>\n",
              "\n",
              "  <div id=\"id_7d202762-7d6b-4d11-a5e6-2a4d563223ec\">\n",
              "    <style>\n",
              "      .colab-df-generate {\n",
              "        background-color: #E8F0FE;\n",
              "        border: none;\n",
              "        border-radius: 50%;\n",
              "        cursor: pointer;\n",
              "        display: none;\n",
              "        fill: #1967D2;\n",
              "        height: 32px;\n",
              "        padding: 0 0 0 0;\n",
              "        width: 32px;\n",
              "      }\n",
              "\n",
              "      .colab-df-generate:hover {\n",
              "        background-color: #E2EBFA;\n",
              "        box-shadow: 0px 1px 2px rgba(60, 64, 67, 0.3), 0px 1px 3px 1px rgba(60, 64, 67, 0.15);\n",
              "        fill: #174EA6;\n",
              "      }\n",
              "\n",
              "      [theme=dark] .colab-df-generate {\n",
              "        background-color: #3B4455;\n",
              "        fill: #D2E3FC;\n",
              "      }\n",
              "\n",
              "      [theme=dark] .colab-df-generate:hover {\n",
              "        background-color: #434B5C;\n",
              "        box-shadow: 0px 1px 3px 1px rgba(0, 0, 0, 0.15);\n",
              "        filter: drop-shadow(0px 1px 2px rgba(0, 0, 0, 0.3));\n",
              "        fill: #FFFFFF;\n",
              "      }\n",
              "    </style>\n",
              "    <button class=\"colab-df-generate\" onclick=\"generateWithVariable('acc_total')\"\n",
              "            title=\"Generate code using this dataframe.\"\n",
              "            style=\"display:none;\">\n",
              "\n",
              "  <svg xmlns=\"http://www.w3.org/2000/svg\" height=\"24px\"viewBox=\"0 0 24 24\"\n",
              "       width=\"24px\">\n",
              "    <path d=\"M7,19H8.4L18.45,9,17,7.55,7,17.6ZM5,21V16.75L18.45,3.32a2,2,0,0,1,2.83,0l1.4,1.43a1.91,1.91,0,0,1,.58,1.4,1.91,1.91,0,0,1-.58,1.4L9.25,21ZM18.45,9,17,7.55Zm-12,3A5.31,5.31,0,0,0,4.9,8.1,5.31,5.31,0,0,0,1,6.5,5.31,5.31,0,0,0,4.9,4.9,5.31,5.31,0,0,0,6.5,1,5.31,5.31,0,0,0,8.1,4.9,5.31,5.31,0,0,0,12,6.5,5.46,5.46,0,0,0,6.5,12Z\"/>\n",
              "  </svg>\n",
              "    </button>\n",
              "    <script>\n",
              "      (() => {\n",
              "      const buttonEl =\n",
              "        document.querySelector('#id_7d202762-7d6b-4d11-a5e6-2a4d563223ec button.colab-df-generate');\n",
              "      buttonEl.style.display =\n",
              "        google.colab.kernel.accessAllowed ? 'block' : 'none';\n",
              "\n",
              "      buttonEl.onclick = () => {\n",
              "        google.colab.notebook.generateWithVariable('acc_total');\n",
              "      }\n",
              "      })();\n",
              "    </script>\n",
              "  </div>\n",
              "\n",
              "    </div>\n",
              "  </div>\n"
            ],
            "application/vnd.google.colaboratory.intrinsic+json": {
              "type": "dataframe",
              "variable_name": "acc_total",
              "summary": "{\n  \"name\": \"acc_total\",\n  \"rows\": 8,\n  \"fields\": [\n    {\n      \"column\": \"Model\",\n      \"properties\": {\n        \"dtype\": \"string\",\n        \"num_unique_values\": 8,\n        \"samples\": [\n          \"Naive Bayes\",\n          \"Random Forest\",\n          \"Logistic Regression\"\n        ],\n        \"semantic_type\": \"\",\n        \"description\": \"\"\n      }\n    },\n    {\n      \"column\": \"Accuracy\",\n      \"properties\": {\n        \"dtype\": \"number\",\n        \"std\": 0.07774474922299275,\n        \"min\": 0.5,\n        \"max\": 0.7233333333333334,\n        \"num_unique_values\": 8,\n        \"samples\": [\n          0.6275,\n          0.6783333333333333,\n          0.7233333333333334\n        ],\n        \"semantic_type\": \"\",\n        \"description\": \"\"\n      }\n    }\n  ]\n}"
            }
          },
          "metadata": {},
          "execution_count": 36
        },
        {
          "output_type": "display_data",
          "data": {
            "text/plain": [
              "<Figure size 640x480 with 1 Axes>"
            ],
            "image/png": "[encoded data removed]"
          },
          "metadata": {}
        }
      ],
      "source": [
        "acc_total = {'Model':['Logistic Regression','Naive Bayes', 'KNN', 'MLP','Decision Tree','Random Forest', 'CNN', 'XGB Boosting'],\n",
        "        'Accuracy':[acc1,acc2, acc3, acc4, acc5,acc6,acc7, acc8]}\n",
        "acc_total=pd.DataFrame(acc_total)\n",
        "acc_total=acc_total.set_index('Model')\n",
        "acc_total\n",
        "plt.plot(acc_total['Accuracy'])\n",
        "plt.xticks(rotation=45)\n",
        "acc_total"
      ]
    },
    {
      "cell_type": "code",
      "source": [],
      "metadata": {
        "id": "EGJc1fuPcb5o"
      },
      "execution_count": null,
      "outputs": []
    },
    {
      "cell_type": "code",
      "execution_count": 52,
      "metadata": {
        "colab": {
          "base_uri": "https://localhost:8080/",
          "height": 735
        },
        "id": "CWdLFfxwk68-",
        "outputId": "ff14c7d6-f01c-4035-84e3-f3eef3a7a8a4"
      },
      "outputs": [
        {
          "output_type": "execute_result",
          "data": {
            "text/plain": [
              "<matplotlib.legend.Legend at 0x7c5e287b6770>"
            ]
          },
          "metadata": {},
          "execution_count": 52
        },
        {
          "output_type": "display_data",
          "data": {
            "text/plain": [
              "<Figure size 1000x800 with 1 Axes>"
            ],
            "image/png": "[encoded data removed]"
          },
          "metadata": {}
        }
      ],
      "source": [
        "plt.figure(figsize=(10,8))\n",
        "plt.plot([0, 1], [0, 1],'r--')\n",
        "fpr_1, tpr_1, thresholds = roc_curve(y_test, y_score_1)\n",
        "fpr_2, tpr_2, thresholds = roc_curve(y_test, y_score_2)\n",
        "fpr_3, tpr_3, thresholds = roc_curve(y_test, y_score_3)\n",
        "fpr_4, tpr_4, thresholds = roc_curve(y_test, y_score_4)\n",
        "fpr_5, tpr_5, thresholds = roc_curve(y_test, y_score_5)\n",
        "fpr_6, tpr_6, thresholds = roc_curve(y_test, y_score_6)\n",
        "fpr_7, tpr_7, thresholds = roc_curve(y_test, y_score_7)\n",
        "plt.plot(fpr_1, tpr_1, label= \"Logistic Regression\")\n",
        "plt.plot(fpr_2, tpr_2, label= \"Naive Bayes\")\n",
        "plt.plot(fpr_3, tpr_3, label= \"KNN\")\n",
        "plt.plot(fpr_4, tpr_4, label= \"MLP\")\n",
        "plt.plot(fpr_5, tpr_5, label= \"Decision Tree\")\n",
        "plt.plot(fpr_6, tpr_6, label= \"Random Forest\")\n",
        "plt.plot(fpr_7, tpr_7, label= \"CNN\")\n",
        "plt.title('ROC Curve ')\n",
        "plt.xlabel('False Positive Rate')\n",
        "plt.ylabel('True Positive Rate')\n",
        "plt.legend()"
      ]
    },
    {
      "cell_type": "code",
      "execution_count": 38,
      "metadata": {
        "colab": {
          "base_uri": "https://localhost:8080/",
          "height": 693
        },
        "id": "ODyvwz5cCG2v",
        "outputId": "d9e27cfc-fa0a-469f-8b56-e0ba52de7bc6"
      },
      "outputs": [
        {
          "output_type": "execute_result",
          "data": {
            "text/plain": [
              "<matplotlib.legend.Legend at 0x7c5e1de69090>"
            ]
          },
          "metadata": {},
          "execution_count": 38
        },
        {
          "output_type": "display_data",
          "data": {
            "text/plain": [
              "<Figure size 800x800 with 1 Axes>"
            ],
            "image/png": "[encoded data removed]"
          },
          "metadata": {}
        }
      ],
      "source": [
        "from sklearn.calibration import calibration_curve\n",
        "plt.figure(figsize=(8,8))\n",
        "plt.plot([0, 1], [0, 1], \"k:\", label=\"Perfectly calibrated\")\n",
        "fraction_of_positives, mean_predicted_value=calibration_curve(y_test,y_score_1,n_bins=10)\n",
        "plt.plot(mean_predicted_value, fraction_of_positives,\"s-\",\n",
        "                 label=\"%s\" % 'Logistic Regression')\n",
        "fraction_of_positives, mean_predicted_value=calibration_curve(y_test,y_score_2,n_bins=10)\n",
        "plt.plot(mean_predicted_value, fraction_of_positives,\"s-\",\n",
        "                 label=\"%s\" % 'Naive Bayes')\n",
        "fraction_of_positives, mean_predicted_value=calibration_curve(y_test,y_score_3,n_bins=10)\n",
        "plt.plot(mean_predicted_value, fraction_of_positives,\"s-\",\n",
        "                 label=\"%s\" % 'KNN')\n",
        "fraction_of_positives, mean_predicted_value=calibration_curve(y_test,y_score_4,n_bins=10)\n",
        "plt.plot(mean_predicted_value, fraction_of_positives,\"s-\",\n",
        "                 label=\"%s\" % 'MLP')\n",
        "fraction_of_positives, mean_predicted_value=calibration_curve(y_test,y_score_5,n_bins=10)\n",
        "plt.plot(mean_predicted_value, fraction_of_positives,\"s-\",\n",
        "                 label=\"%s\" % 'Decision Tree')\n",
        "fraction_of_positives, mean_predicted_value=calibration_curve(y_test,y_score_6,n_bins=10)\n",
        "plt.plot(mean_predicted_value, fraction_of_positives,\"s-\",\n",
        "                 label=\"%s\" % 'Random Forest')\n",
        "fraction_of_positives, mean_predicted_value=calibration_curve(y_test,y_score_7,n_bins=10)\n",
        "plt.plot(mean_predicted_value, fraction_of_positives,\"s-\",\n",
        "                 label=\"%s\" % 'CNN')\n",
        "plt.legend(loc=\"lower right\")"
      ]
    }
  ],
  "metadata": {
    "colab": {
      "provenance": [],
      "gpuType": "T4"
    },
    "kernelspec": {
      "display_name": "Python 3",
      "name": "python3"
    },
    "language_info": {
      "codemirror_mode": {
        "name": "ipython",
        "version": 3
      },
      "file_extension": ".py",
      "mimetype": "text/x-python",
      "name": "python",
      "nbconvert_exporter": "python",
      "pygments_lexer": "ipython3",
      "version": "3.11.5"
    },
    "accelerator": "GPU"
  },
  "nbformat": 4,
  "nbformat_minor": 0
}